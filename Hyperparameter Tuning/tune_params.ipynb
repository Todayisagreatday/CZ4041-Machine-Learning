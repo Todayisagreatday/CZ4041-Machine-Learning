{
 "cells": [
  {
   "cell_type": "markdown",
   "metadata": {},
   "source": [
    "# do hyperparameter tuning for LightGBM\n",
    "\n",
    "notebook did not run to completion due to force-restarting of notebook on its own, multiple times  \n",
    "results obtained using `try_tuned_params.py`\n",
    "\n",
    "references:\n",
    "\n",
    "- [LightGBM parameters](https://lightgbm.readthedocs.io/en/latest/Parameters.html)\n",
    "- [tuning LightGBM](https://lightgbm.readthedocs.io/en/latest/Parameters-Tuning.html)\n",
    "- [optuna sample](https://github.com/optuna/optuna/blob/master/examples/lightgbm_simple.py)\n",
    "- [optuna trial](https://optuna.readthedocs.io/en/stable/reference/trial.html)"
   ]
  },
  {
   "cell_type": "markdown",
   "metadata": {},
   "source": [
    "## import libraries"
   ]
  },
  {
   "cell_type": "code",
   "execution_count": 1,
   "metadata": {},
   "outputs": [],
   "source": [
    "import joblib\n",
    "import multiprocessing\n",
    "import optuna\n",
    "import os\n",
    "\n",
    "import lightgbm as lgb\n",
    "import numpy as np\n",
    "import pandas as pd\n",
    "\n",
    "from lightgbm import LGBMClassifier\n",
    "from sklearn.metrics import roc_auc_score\n",
    "from sklearn.model_selection import train_test_split\n",
    "from sklearn.preprocessing import LabelEncoder"
   ]
  },
  {
   "cell_type": "markdown",
   "metadata": {},
   "source": [
    "## change working directory"
   ]
  },
  {
   "cell_type": "code",
   "execution_count": 2,
   "metadata": {},
   "outputs": [],
   "source": [
    "os.chdir('..')"
   ]
  },
  {
   "cell_type": "markdown",
   "metadata": {},
   "source": [
    "## define paths"
   ]
  },
  {
   "cell_type": "code",
   "execution_count": 2,
   "metadata": {},
   "outputs": [],
   "source": [
    "model_dir_path = 'models/lgbm/'\n",
    "output_dir_path = 'output/lgbm/'\n",
    "\n",
    "os.makedirs(model_dir_path, exist_ok=True)\n",
    "os.makedirs(output_dir_path, exist_ok=True)\n",
    "\n",
    "train_transaction_data_path = 'data/train_transaction.csv'\n",
    "train_identity_data_path = 'data/train_identity.csv'\n",
    "test_transaction_data_path = 'data/test_transaction.csv'\n",
    "test_identity_data_path = 'data/test_identity.csv'"
   ]
  },
  {
   "cell_type": "markdown",
   "metadata": {},
   "source": [
    "## define utility function to reduce memory usage"
   ]
  },
  {
   "cell_type": "code",
   "execution_count": 3,
   "metadata": {},
   "outputs": [],
   "source": [
    "def reduce_mem_usage(df, verbose=True):\n",
    "    \"\"\"\n",
    "    Reduce dataframe size\n",
    "\n",
    "    params:\n",
    "    - df: dataframe to reduce the size of\n",
    "\n",
    "    return:\n",
    "    - dataframe of reduced size\n",
    "    \"\"\"\n",
    "    numerics = ['int16', 'int32', 'int64', 'float16', 'float32', 'float64', 'float128']\n",
    "    start_mem = df.memory_usage().sum() / 1024**2    \n",
    "\n",
    "    for col in df.columns:\n",
    "        col_type = df[col].dtypes\n",
    "\n",
    "        if col_type in numerics:\n",
    "            c_min = df[col].min()\n",
    "            c_max = df[col].max()\n",
    "\n",
    "            if str(col_type)[:3] == 'int':\n",
    "                if c_min > np.iinfo(np.int8).min and c_max < np.iinfo(np.int8).max:\n",
    "                    df[col] = df[col].astype(np.int8)\n",
    "                elif c_min > np.iinfo(np.int16).min and c_max < np.iinfo(np.int16).max:\n",
    "                    df[col] = df[col].astype(np.int16)\n",
    "                elif c_min > np.iinfo(np.int32).min and c_max < np.iinfo(np.int32).max:\n",
    "                    df[col] = df[col].astype(np.int32)\n",
    "                elif c_min > np.iinfo(np.int64).min and c_max < np.iinfo(np.int64).max:\n",
    "                    df[col] = df[col].astype(np.int64)\n",
    "            else:\n",
    "                if c_min > np.finfo(np.float16).min and c_max < np.finfo(np.float16).max:\n",
    "                    df[col] = df[col].astype(np.float16)\n",
    "                elif c_min > np.finfo(np.float32).min and c_max < np.finfo(np.float32).max:\n",
    "                    df[col] = df[col].astype(np.float32)\n",
    "                elif c_min > np.finfo(np.float64).min and c_max < np.finfo(np.float64).max:\n",
    "                    df[col] = df[col].astype(np.float64)\n",
    "                elif c_min > np.finfo(np.float128).min and c_max < np.finfo(np.float128).max:\n",
    "                    df[col] = df[col].astype(np.float128)\n",
    "                    \n",
    "    end_mem = df.memory_usage().sum() / 1024**2\n",
    "\n",
    "    if verbose: \n",
    "        print(\n",
    "            'Mem. usage decreased to {:5.2f} Mb ({:.1f}% reduction)'.format(\n",
    "            end_mem, 100 * (start_mem - end_mem) / start_mem\n",
    "        ))\n",
    "\n",
    "    return df"
   ]
  },
  {
   "cell_type": "markdown",
   "metadata": {},
   "source": [
    "## list down useless features (known from feature selection)"
   ]
  },
  {
   "cell_type": "code",
   "execution_count": 4,
   "metadata": {},
   "outputs": [],
   "source": [
    "useless_features = [\n",
    "    'TransactionID',  # not really a feature\n",
    "    'dist2',  # transaction features\n",
    "    'C3',  # C features\n",
    "    'D6', 'D7', 'D8', 'D9', 'D12', 'D13', 'D14',  # D features\n",
    "    'M1',  # M features\n",
    "    'id_07', 'id_08', 'id_18', 'id_21', 'id_22', 'id_23',  # id features\n",
    "    'id_24', 'id_25', 'id_26', 'id_27', 'id_28', 'id_35',  # id features\n",
    "    'V6', 'V8', 'V9', 'V10', 'V11', 'V14', 'V15', 'V16',  # V features\n",
    "    'V18', 'V21', 'V22', 'V27', 'V28', 'V31', 'V32',  # V features\n",
    "    'V41', 'V42', 'V46', 'V50', 'V51', 'V59', 'V65',  # V features\n",
    "    'V68', 'V71', 'V72', 'V79', 'V80', 'V84', 'V85',  # V features\n",
    "    'V88', 'V89', 'V92', 'V93', 'V95', 'V98', 'V101',  # V features\n",
    "    'V104', 'V106', 'V107', 'V108', 'V109', 'V110',  # V features\n",
    "    'V111', 'V112', 'V113', 'V114', 'V116', 'V117',  # V features\n",
    "    'V118', 'V119', 'V120', 'V121', 'V122', 'V123',  # V features \n",
    "    'V125', 'V138', 'V141', 'V142', 'V144', 'V146',  # V features \n",
    "    'V147', 'V148', 'V151', 'V153', 'V154', 'V155',  # V features \n",
    "    'V157', 'V158', 'V159', 'V161', 'V163', 'V164',  # V features \n",
    "    'V166', 'V172', 'V173', 'V174', 'V175', 'V176',  # V features \n",
    "    'V177', 'V178', 'V179', 'V180', 'V181', 'V182',  # V features  \n",
    "    'V183', 'V184', 'V185', 'V186', 'V190', 'V191',  # V features  \n",
    "    'V192', 'V193', 'V194', 'V195', 'V196', 'V197',  # V features  \n",
    "    'V198', 'V199', 'V214', 'V216', 'V220', 'V225',  # V features \n",
    "    'V226', 'V227', 'V230', 'V233', 'V235', 'V236',  # V features  \n",
    "    'V237', 'V238', 'V239', 'V240', 'V241', 'V242',  # V features \n",
    "    'V244', 'V246', 'V247', 'V248', 'V249', 'V250',  # V features \n",
    "    'V252', 'V254', 'V255', 'V269', 'V276', 'V297',  # V features \n",
    "    'V300', 'V302', 'V304', 'V305', 'V325', 'V327',  # V features  \n",
    "    'V328', 'V329', 'V330', 'V334', 'V335', 'V336',  # V features \n",
    "    'V337', 'V338', 'V339',  # V features \n",
    "]"
   ]
  },
  {
   "cell_type": "markdown",
   "metadata": {},
   "source": [
    "## define function to disregard OS versions"
   ]
  },
  {
   "cell_type": "code",
   "execution_count": 5,
   "metadata": {},
   "outputs": [],
   "source": [
    "def ignore_os_version(df, verbose: bool=True):\n",
    "    \"\"\"\n",
    "    params:\n",
    "    - df (DataFrame): has id_30 as one of its columns\n",
    "    - verbose (bool): prints information if True\n",
    "\n",
    "    return: dataframe, after os versions have been ignored\n",
    "    \"\"\"\n",
    "    os_list = [\n",
    "        'Android',\n",
    "        'iOS',\n",
    "        'Mac OS X',\n",
    "        'Windows',\n",
    "    ]\n",
    "\n",
    "    for index, operating_system in df.id_30.iteritems():\n",
    "        new_os = 'other'\n",
    "\n",
    "        if isinstance(operating_system, str):\n",
    "            for known_os in os_list:\n",
    "                if known_os in operating_system:\n",
    "                    new_os = known_os\n",
    "                    break\n",
    "\n",
    "        df.at[index, 'id_30'] = new_os\n",
    "\n",
    "    if verbose:\n",
    "        print('operating systems:', df.id_30.unique())\n",
    "\n",
    "    return df"
   ]
  },
  {
   "cell_type": "markdown",
   "metadata": {},
   "source": [
    "## define function to disregard browser versions"
   ]
  },
  {
   "cell_type": "code",
   "execution_count": 6,
   "metadata": {},
   "outputs": [],
   "source": [
    "def ignore_browser_version(df, verbose: bool=True):\n",
    "    \"\"\"\n",
    "    params:\n",
    "    - df (DataFrame): has id_31 as one of its columns\n",
    "    - verbose (bool): prints information if True\n",
    "\n",
    "    return: dataframe, after browser versions have been ignored\n",
    "    \"\"\"\n",
    "    browser_list = [\n",
    "        'aol',\n",
    "        'chrome',\n",
    "        'chromium',\n",
    "        'comodo',\n",
    "        'cyberfox',\n",
    "        'edge',\n",
    "        'firefox',\n",
    "        'icedragon',\n",
    "        'ie',\n",
    "        'iron',\n",
    "        'maxthon',\n",
    "        'opera',\n",
    "        'palemoon',\n",
    "        'puffin',\n",
    "        'safari',\n",
    "        'samsung',\n",
    "        'seamonkey',\n",
    "        'silk',\n",
    "        'waterfox',\n",
    "    ]\n",
    "\n",
    "    for index, browser in df.id_31.iteritems():\n",
    "        new_browser = 'other'\n",
    "\n",
    "        if isinstance(browser, str):\n",
    "            for known_browser in browser_list:\n",
    "                if known_browser in browser:\n",
    "                    new_browser = known_browser\n",
    "                    break\n",
    "\n",
    "        df.at[index, 'id_31'] = new_browser\n",
    "\n",
    "    if verbose:\n",
    "        print('browsers:', df.id_31.unique())\n",
    "\n",
    "    return df"
   ]
  },
  {
   "cell_type": "markdown",
   "metadata": {},
   "source": [
    "## define function for preprocessing data"
   ]
  },
  {
   "cell_type": "code",
   "execution_count": 7,
   "metadata": {},
   "outputs": [],
   "source": [
    "def preprocess(df, verbose: bool=True):\n",
    "    \"\"\"\n",
    "    Does the following preprocessing steps:\n",
    "    - disregard os versions\n",
    "    - disregard browser versions\n",
    "    - drop useless features\n",
    "    - convert object columns to string columns\n",
    "    - imputation (for numbers, fill with interquartile mean)\n",
    "    - do label encoding for non-numeric values\n",
    "    - reduce memory usage again\n",
    "\n",
    "    params:   \n",
    "    - df (DataFrame): dataframe to preprocess (has columns id_30 and id_31)\n",
    "    - verbose (bool): prints information if True\n",
    "\n",
    "    return: dataframe, preprocessing is complete\n",
    "    \"\"\"\n",
    "    df = df.drop(useless_features, axis=1)\n",
    "    df = ignore_os_version(df, verbose)\n",
    "    df = ignore_browser_version(df, verbose)\n",
    "\n",
    "    le = LabelEncoder()\n",
    "\n",
    "    for column in df.columns:\n",
    "        if df[column].dtype == 'object':\n",
    "            df[column]= df[column].astype(str)\n",
    "            df[column] = le.fit_transform(df[column])\n",
    "        else:\n",
    "            df[column] = df[column].fillna(df[column].quantile().mean())\n",
    "\n",
    "    df = reduce_mem_usage(df, verbose)\n",
    "\n",
    "    return df"
   ]
  },
  {
   "cell_type": "markdown",
   "metadata": {},
   "source": [
    "## load and preprocess training data"
   ]
  },
  {
   "cell_type": "code",
   "execution_count": 8,
   "metadata": {},
   "outputs": [
    {
     "output_type": "stream",
     "name": "stdout",
     "text": "Mem. usage decreased to 542.35 Mb (69.4% reduction)\nMem. usage decreased to 25.86 Mb (42.7% reduction)\nnumber of rows in training data: 590540\noperating systems:['other' 'Android' 'iOS' 'Mac OS X' 'Windows']\nbrowsers:['other' 'samsung' 'safari' 'chrome' 'edge' 'firefox' 'ie' 'opera' 'aol'\n 'silk' 'waterfox' 'puffin' 'cyberfox' 'palemoon' 'maxthon' 'iron'\n 'seamonkey' 'comodo' 'chromium' 'icedragon']\nMem. usage decreased to 357.35 Mb (22.1% reduction)\nCPU times: user 1min 16s, sys: 37.7 s, total: 1min 53s\nWall time: 1min 53s\n"
    },
    {
     "output_type": "execute_result",
     "data": {
      "text/plain": "   isFraud  TransactionDT  TransactionAmt  ProductCD  card1  card2  card3  \\\n0        0          86400            68.5          4  13926  361.0  150.0   \n1        0          86401            29.0          4   2755  404.0  150.0   \n2        0          86469            59.0          4   4663  490.0  150.0   \n3        0          86499            50.0          4  18132  567.0  150.0   \n4        0          86506            50.0          1   4497  514.0  150.0   \n\n   card4  card5  card6  ...  id_30  id_31  id_32  id_33  id_34  id_36  id_37  \\\n0      1  142.0      1  ...      4     12   24.0    260      4      2      2   \n1      2  102.0      1  ...      4     12   24.0    260      4      2      2   \n2      4  166.0      2  ...      4     12   24.0    260      4      2      2   \n3      2  117.0      2  ...      4     12   24.0    260      4      2      2   \n4      2  102.0      1  ...      0     16   32.0    164      3      0      1   \n\n   id_38  DeviceType  DeviceInfo  \n0      2           2        1742  \n1      2           2        1742  \n2      2           2        1742  \n3      2           2        1742  \n4      1           1         954  \n\n[5 rows x 270 columns]",
      "text/html": "<div>\n<style scoped>\n    .dataframe tbody tr th:only-of-type {\n        vertical-align: middle;\n    }\n\n    .dataframe tbody tr th {\n        vertical-align: top;\n    }\n\n    .dataframe thead th {\n        text-align: right;\n    }\n</style>\n<table border=\"1\" class=\"dataframe\">\n  <thead>\n    <tr style=\"text-align: right;\">\n      <th></th>\n      <th>isFraud</th>\n      <th>TransactionDT</th>\n      <th>TransactionAmt</th>\n      <th>ProductCD</th>\n      <th>card1</th>\n      <th>card2</th>\n      <th>card3</th>\n      <th>card4</th>\n      <th>card5</th>\n      <th>card6</th>\n      <th>...</th>\n      <th>id_30</th>\n      <th>id_31</th>\n      <th>id_32</th>\n      <th>id_33</th>\n      <th>id_34</th>\n      <th>id_36</th>\n      <th>id_37</th>\n      <th>id_38</th>\n      <th>DeviceType</th>\n      <th>DeviceInfo</th>\n    </tr>\n  </thead>\n  <tbody>\n    <tr>\n      <th>0</th>\n      <td>0</td>\n      <td>86400</td>\n      <td>68.5</td>\n      <td>4</td>\n      <td>13926</td>\n      <td>361.0</td>\n      <td>150.0</td>\n      <td>1</td>\n      <td>142.0</td>\n      <td>1</td>\n      <td>...</td>\n      <td>4</td>\n      <td>12</td>\n      <td>24.0</td>\n      <td>260</td>\n      <td>4</td>\n      <td>2</td>\n      <td>2</td>\n      <td>2</td>\n      <td>2</td>\n      <td>1742</td>\n    </tr>\n    <tr>\n      <th>1</th>\n      <td>0</td>\n      <td>86401</td>\n      <td>29.0</td>\n      <td>4</td>\n      <td>2755</td>\n      <td>404.0</td>\n      <td>150.0</td>\n      <td>2</td>\n      <td>102.0</td>\n      <td>1</td>\n      <td>...</td>\n      <td>4</td>\n      <td>12</td>\n      <td>24.0</td>\n      <td>260</td>\n      <td>4</td>\n      <td>2</td>\n      <td>2</td>\n      <td>2</td>\n      <td>2</td>\n      <td>1742</td>\n    </tr>\n    <tr>\n      <th>2</th>\n      <td>0</td>\n      <td>86469</td>\n      <td>59.0</td>\n      <td>4</td>\n      <td>4663</td>\n      <td>490.0</td>\n      <td>150.0</td>\n      <td>4</td>\n      <td>166.0</td>\n      <td>2</td>\n      <td>...</td>\n      <td>4</td>\n      <td>12</td>\n      <td>24.0</td>\n      <td>260</td>\n      <td>4</td>\n      <td>2</td>\n      <td>2</td>\n      <td>2</td>\n      <td>2</td>\n      <td>1742</td>\n    </tr>\n    <tr>\n      <th>3</th>\n      <td>0</td>\n      <td>86499</td>\n      <td>50.0</td>\n      <td>4</td>\n      <td>18132</td>\n      <td>567.0</td>\n      <td>150.0</td>\n      <td>2</td>\n      <td>117.0</td>\n      <td>2</td>\n      <td>...</td>\n      <td>4</td>\n      <td>12</td>\n      <td>24.0</td>\n      <td>260</td>\n      <td>4</td>\n      <td>2</td>\n      <td>2</td>\n      <td>2</td>\n      <td>2</td>\n      <td>1742</td>\n    </tr>\n    <tr>\n      <th>4</th>\n      <td>0</td>\n      <td>86506</td>\n      <td>50.0</td>\n      <td>1</td>\n      <td>4497</td>\n      <td>514.0</td>\n      <td>150.0</td>\n      <td>2</td>\n      <td>102.0</td>\n      <td>1</td>\n      <td>...</td>\n      <td>0</td>\n      <td>16</td>\n      <td>32.0</td>\n      <td>164</td>\n      <td>3</td>\n      <td>0</td>\n      <td>1</td>\n      <td>1</td>\n      <td>1</td>\n      <td>954</td>\n    </tr>\n  </tbody>\n</table>\n<p>5 rows × 270 columns</p>\n</div>"
     },
     "metadata": {},
     "execution_count": 8
    }
   ],
   "source": [
    "%%time\n",
    "\n",
    "transaction_dataframe = pd.read_csv(train_transaction_data_path)\n",
    "transaction_dataframe = reduce_mem_usage(transaction_dataframe)\n",
    "\n",
    "identity_dataframe = pd.read_csv(train_identity_data_path)\n",
    "identity_dataframe = reduce_mem_usage(identity_dataframe)\n",
    "\n",
    "dataframe = transaction_dataframe.merge(identity_dataframe, how='outer')\n",
    "\n",
    "del transaction_dataframe\n",
    "del identity_dataframe\n",
    "\n",
    "print(f'number of rows in training data: {len(dataframe)}')\n",
    "dataframe = preprocess(dataframe)\n",
    "dataframe.head()"
   ]
  },
  {
   "cell_type": "markdown",
   "metadata": {},
   "source": [
    "## split into training and validation sets"
   ]
  },
  {
   "cell_type": "code",
   "execution_count": 9,
   "metadata": {},
   "outputs": [],
   "source": [
    "features_dataframe = dataframe.drop('isFraud', axis=1)\n",
    "is_fraud_data = dataframe['isFraud']\n",
    "\n",
    "del dataframe\n",
    "\n",
    "train_features, val_features, train_target, val_target = train_test_split(\n",
    "    features_dataframe, \n",
    "    is_fraud_data, \n",
    "    test_size=0.2,\n",
    ")\n",
    "\n",
    "train_data = lgb.Dataset(train_features, train_target)\n",
    "val_data = lgb.Dataset(val_features, val_target)\n",
    "\n",
    "del train_features\n",
    "del train_target"
   ]
  },
  {
   "cell_type": "markdown",
   "metadata": {},
   "source": [
    "## define objective function"
   ]
  },
  {
   "cell_type": "code",
   "execution_count": 10,
   "metadata": {},
   "outputs": [],
   "source": [
    "def objective(trial):\n",
    "    params = {\n",
    "        'objective': 'binary',\n",
    "        'metric': 'auc',\n",
    "        'feature_pre_filter': False,\n",
    "        'seed': 0,\n",
    "        'early_stopping_round': 500,\n",
    "        'num_iterations': 10000,\n",
    "        'boosting': 'gbdt',  # gbdt > dart; don't know about goss\n",
    "        'device_type': 'gpu',\n",
    "        'gpu_use_dp': True,\n",
    "\n",
    "        'num_leaves': trial.suggest_int('num_leaves', 300, 1500),\n",
    "        'min_data_in_leaf': trial.suggest_int('min_data_in_leaf', 60, 300),\n",
    "        \n",
    "        'bagging_fraction': trial.suggest_uniform('bagging_fraction', 0.6, 1.0),\n",
    "        'bagging_freq': trial.suggest_int('bagging_freq', 40, 120),\n",
    "        'feature_fraction': trial.suggest_uniform('feature_fraction', 0.6, 1.0),\n",
    "\n",
    "        'learning_rate': trial.suggest_uniform('learning_rate', 0.001, 0.01),\n",
    "        \n",
    "        'lambda_l1': trial.suggest_loguniform('lambda_l1', 1e-6, 1.0),\n",
    "        'lambda_l2': trial.suggest_loguniform('lambda_l2', 1e-7, 0.1),\n",
    "        'min_split_gain': trial.suggest_loguniform('min_split_gain', 1e-8, 1.0),\n",
    "    }\n",
    "\n",
    "    classifier = lgb.train(\n",
    "        params,\n",
    "        train_data,\n",
    "        valid_sets=[val_data],\n",
    "        verbose_eval=1000,\n",
    "    )\n",
    "\n",
    "    prediction = classifier.predict(val_features)\n",
    "    return roc_auc_score(val_target, prediction)"
   ]
  },
  {
   "cell_type": "markdown",
   "metadata": {},
   "source": [
    "## optimise"
   ]
  },
  {
   "cell_type": "code",
   "execution_count": 11,
   "metadata": {},
   "outputs": [
    {
     "output_type": "stream",
     "name": "stdout",
     "text": "Training until validation scores don't improve for 500 rounds\n[1000]\tvalid_0's auc: 0.964825\n[2000]\tvalid_0's auc: 0.971581\n[3000]\tvalid_0's auc: 0.973261\n[4000]\tvalid_0's auc: 0.973699\n[5000]\tvalid_0's auc: 0.973866\nEarly stopping, best iteration is:\n[4924]\tvalid_0's auc: 0.973884\n[I 2020-04-26 16:30:57,398] Finished trial#0 with value: 0.9738843115738256 with parameters: {'num_leaves': 1003, 'min_data_in_leaf': 128, 'bagging_fraction': 0.7980799793848067, 'bagging_freq': 74, 'feature_fraction': 0.7936523294908615, 'learning_rate': 0.004900360872407177, 'lambda_l1': 0.7470253151714737, 'lambda_l2': 0.0001989106219058993, 'min_split_gain': 2.4180574527860886e-05}. Best is trial#0 with value: 0.9738843115738256.\nTraining until validation scores don't improve for 500 rounds\n[1000]\tvalid_0's auc: 0.965643\n[2000]\tvalid_0's auc: 0.972806\n[3000]\tvalid_0's auc: 0.974905\n[4000]\tvalid_0's auc: 0.975783\n[5000]\tvalid_0's auc: 0.976404\n[6000]\tvalid_0's auc: 0.976535\nEarly stopping, best iteration is:\n[5585]\tvalid_0's auc: 0.976572\n[I 2020-04-26 16:50:47,614] Finished trial#1 with value: 0.9765724053029845 with parameters: {'num_leaves': 395, 'min_data_in_leaf': 63, 'bagging_fraction': 0.9904031026433603, 'bagging_freq': 52, 'feature_fraction': 0.8261886155632686, 'learning_rate': 0.005744872565276946, 'lambda_l1': 0.001973309169415503, 'lambda_l2': 0.07395166262918815, 'min_split_gain': 0.00042833111881948957}. Best is trial#1 with value: 0.9765724053029845.\nTraining until validation scores don't improve for 500 rounds\n[1000]\tvalid_0's auc: 0.945146\n[2000]\tvalid_0's auc: 0.963664\n[3000]\tvalid_0's auc: 0.968356\n[4000]\tvalid_0's auc: 0.969455\nEarly stopping, best iteration is:\n[4325]\tvalid_0's auc: 0.96959\n[I 2020-04-26 17:23:54,738] Finished trial#2 with value: 0.9695899574903211 with parameters: {'num_leaves': 1242, 'min_data_in_leaf': 174, 'bagging_fraction': 0.6561500738099412, 'bagging_freq': 42, 'feature_fraction': 0.8573933020623068, 'learning_rate': 0.0024942510755431497, 'lambda_l1': 1.3942948107225643e-05, 'lambda_l2': 2.87261729998794e-07, 'min_split_gain': 2.7034128429582066e-05}. Best is trial#1 with value: 0.9765724053029845.\nTraining until validation scores don't improve for 500 rounds\n[1000]\tvalid_0's auc: 0.937478\n[2000]\tvalid_0's auc: 0.959347\n[3000]\tvalid_0's auc: 0.966421\n[4000]\tvalid_0's auc: 0.969922\n[5000]\tvalid_0's auc: 0.971976\n[6000]\tvalid_0's auc: 0.973244\n[7000]\tvalid_0's auc: 0.974159\n[8000]\tvalid_0's auc: 0.974617\n[9000]\tvalid_0's auc: 0.974947\n[10000]\tvalid_0's auc: 0.975284\nDid not meet early stopping. Best iteration is:\n[10000]\tvalid_0's auc: 0.975284\n[I 2020-04-26 17:55:48,495] Finished trial#3 with value: 0.9752841433665376 with parameters: {'num_leaves': 357, 'min_data_in_leaf': 239, 'bagging_fraction': 0.8981245960747626, 'bagging_freq': 42, 'feature_fraction': 0.6757366405684708, 'learning_rate': 0.002643965632778826, 'lambda_l1': 0.00020908461399848322, 'lambda_l2': 2.282598591643265e-06, 'min_split_gain': 0.00539175228082824}. Best is trial#1 with value: 0.9765724053029845.\nTraining until validation scores don't improve for 500 rounds\n[1000]\tvalid_0's auc: 0.96566\n[2000]\tvalid_0's auc: 0.969095\n[3000]\tvalid_0's auc: 0.970334\n[4000]\tvalid_0's auc: 0.970808\nEarly stopping, best iteration is:\n[3936]\tvalid_0's auc: 0.970823\n[I 2020-04-26 18:17:54,125] Finished trial#4 with value: 0.9708231123430042 with parameters: {'num_leaves': 1344, 'min_data_in_leaf': 218, 'bagging_fraction': 0.6065496321290093, 'bagging_freq': 118, 'feature_fraction': 0.6640283101725976, 'learning_rate': 0.007935010372959427, 'lambda_l1': 0.011638086567711713, 'lambda_l2': 0.0010267096855244486, 'min_split_gain': 0.0020971974354108075}. Best is trial#1 with value: 0.9765724053029845.\nTraining until validation scores don't improve for 500 rounds\n[1000]\tvalid_0's auc: 0.967757\n[2000]\tvalid_0's auc: 0.97381\n[3000]\tvalid_0's auc: 0.975275\n[4000]\tvalid_0's auc: 0.975888\n[5000]\tvalid_0's auc: 0.97623\n[6000]\tvalid_0's auc: 0.976283\nEarly stopping, best iteration is:\n[5512]\tvalid_0's auc: 0.976327\n[I 2020-04-26 18:38:05,275] Finished trial#5 with value: 0.9763266077067514 with parameters: {'num_leaves': 403, 'min_data_in_leaf': 249, 'bagging_fraction': 0.9861010565253743, 'bagging_freq': 80, 'feature_fraction': 0.6195221945260142, 'learning_rate': 0.008060560032932075, 'lambda_l1': 0.00044378050004232624, 'lambda_l2': 0.000699112895547415, 'min_split_gain': 0.0015068062433125815}. Best is trial#1 with value: 0.9765724053029845.\nTraining until validation scores don't improve for 500 rounds\n[1000]\tvalid_0's auc: 0.941779\n[2000]\tvalid_0's auc: 0.961012\n[3000]\tvalid_0's auc: 0.968245\n[4000]\tvalid_0's auc: 0.970749\n[5000]\tvalid_0's auc: 0.972203\n[6000]\tvalid_0's auc: 0.972849\n[7000]\tvalid_0's auc: 0.973314\n[8000]\tvalid_0's auc: 0.973686\n[9000]\tvalid_0's auc: 0.973803\n[10000]\tvalid_0's auc: 0.973928\nDid not meet early stopping. Best iteration is:\n[9648]\tvalid_0's auc: 0.973954\n[I 2020-04-26 19:39:31,086] Finished trial#6 with value: 0.9739542439040608 with parameters: {'num_leaves': 839, 'min_data_in_leaf': 170, 'bagging_fraction': 0.8244253697699655, 'bagging_freq': 53, 'feature_fraction': 0.8547519124735501, 'learning_rate': 0.0019732169948411624, 'lambda_l1': 2.4326283506019405e-06, 'lambda_l2': 0.0010601004902769668, 'min_split_gain': 6.8015876865516326e-06}. Best is trial#1 with value: 0.9765724053029845.\nTraining until validation scores don't improve for 500 rounds\n[1000]\tvalid_0's auc: 0.940062\n[2000]\tvalid_0's auc: 0.957414\n[3000]\tvalid_0's auc: 0.966259\n[4000]\tvalid_0's auc: 0.969124\n[5000]\tvalid_0's auc: 0.970687\n[6000]\tvalid_0's auc: 0.971884\n[7000]\tvalid_0's auc: 0.972718\n[8000]\tvalid_0's auc: 0.973231\n[9000]\tvalid_0's auc: 0.973544\n[10000]\tvalid_0's auc: 0.973683\nDid not meet early stopping. Best iteration is:\n[10000]\tvalid_0's auc: 0.973683\n"
    }
   ],
   "source": [
    "%%time\n",
    "\n",
    "study = optuna.create_study(direction='maximize')\n",
    "study.optimize(objective, n_trials=10)"
   ]
  },
  {
   "cell_type": "markdown",
   "metadata": {},
   "source": [
    "### possible best parameters\n",
    "\n",
    "Finished trial#0 with value: 0.9738843115738256 with parameters: {'num_leaves': 1003, 'min_data_in_leaf': 128, 'bagging_fraction': 0.7980799793848067, 'bagging_freq': 74, 'feature_fraction': 0.7936523294908615, 'learning_rate': 0.004900360872407177, 'lambda_l1': 0.7470253151714737, 'lambda_l2': 0.0001989106219058993, 'min_split_gain': 2.4180574527860886e-05}.\n",
    "\n",
    "Finished trial#1 with value: 0.9765724053029845 with parameters: {'num_leaves': 395, 'min_data_in_leaf': 63, 'bagging_fraction': 0.9904031026433603, 'bagging_freq': 52, 'feature_fraction': 0.8261886155632686, 'learning_rate': 0.005744872565276946, 'lambda_l1': 0.001973309169415503, 'lambda_l2': 0.07395166262918815, 'min_split_gain': 0.00042833111881948957}.\n",
    "\n",
    "Finished trial#2 with value: 0.9695899574903211 with parameters: {'num_leaves': 1242, 'min_data_in_leaf': 174, 'bagging_fraction': 0.6561500738099412, 'bagging_freq': 42, 'feature_fraction': 0.8573933020623068, 'learning_rate': 0.0024942510755431497, 'lambda_l1': 1.3942948107225643e-05, 'lambda_l2': 2.87261729998794e-07, 'min_split_gain': 2.7034128429582066e-05}.\n",
    "\n",
    "Finished trial#3 with value: 0.9752841433665376 with parameters: {'num_leaves': 357, 'min_data_in_leaf': 239, 'bagging_fraction': 0.8981245960747626, 'bagging_freq': 42, 'feature_fraction': 0.6757366405684708, 'learning_rate': 0.002643965632778826, 'lambda_l1': 0.00020908461399848322, 'lambda_l2': 2.282598591643265e-06, 'min_split_gain': 0.00539175228082824}.\n",
    "\n",
    "Finished trial#4 with value: 0.9708231123430042 with parameters: {'num_leaves': 1344, 'min_data_in_leaf': 218, 'bagging_fraction': 0.6065496321290093, 'bagging_freq': 118, 'feature_fraction': 0.6640283101725976, 'learning_rate': 0.007935010372959427, 'lambda_l1': 0.011638086567711713, 'lambda_l2': 0.0010267096855244486, 'min_split_gain': 0.0020971974354108075}.\n",
    "\n",
    "Finished trial#5 with value: 0.9763266077067514 with parameters: {'num_leaves': 403, 'min_data_in_leaf': 249, 'bagging_fraction': 0.9861010565253743, 'bagging_freq': 80, 'feature_fraction': 0.6195221945260142, 'learning_rate': 0.008060560032932075, 'lambda_l1': 0.00044378050004232624, 'lambda_l2': 0.000699112895547415, 'min_split_gain': 0.0015068062433125815}.\n",
    "\n",
    "Finished trial#6 with value: 0.9739542439040608 with parameters: {'num_leaves': 839, 'min_data_in_leaf': 170, 'bagging_fraction': 0.8244253697699655, 'bagging_freq': 53, 'feature_fraction': 0.8547519124735501, 'learning_rate': 0.0019732169948411624, 'lambda_l1': 2.4326283506019405e-06, 'lambda_l2': 0.0010601004902769668, 'min_split_gain': 6.8015876865516326e-06}."
   ]
  },
  {
   "cell_type": "markdown",
   "metadata": {},
   "source": [
    "## Kaggle result\n",
    "\n",
    "~|reference params|trial 1 (best)|trial 5 (2nd)|trial 3 (3rd)\n",
    "-|-|-|-|-\n",
    "public score|0.939755|0.938188|0.934179|0.936401\n",
    "private score|0.911989|0.907923|0.905338|0.903841"
   ]
  }
 ],
 "metadata": {
  "language_info": {
   "codemirror_mode": {
    "name": "ipython",
    "version": 3
   },
   "file_extension": ".py",
   "mimetype": "text/x-python",
   "name": "python",
   "nbconvert_exporter": "python",
   "pygments_lexer": "ipython3",
   "version": "3.7.6-final"
  },
  "orig_nbformat": 2,
  "kernelspec": {
   "name": "python37664bit0656ffb61a14454b8758eedef206058e",
   "display_name": "Python 3.7.6 64-bit"
  }
 },
 "nbformat": 4,
 "nbformat_minor": 2
}