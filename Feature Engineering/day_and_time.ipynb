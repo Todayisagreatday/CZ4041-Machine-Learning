{
 "cells": [
  {
   "cell_type": "markdown",
   "metadata": {},
   "source": [
    "# feature engineering for TransactionDT for LightGBM\n",
    "\n",
    "previous feature engineering:\n",
    "\n",
    "- categorical features representation\n",
    "- check if normalisation helps\n",
    "- handling nan values\n",
    "- keep or ignore os and/or browser versions"
   ]
  },
  {
   "cell_type": "markdown",
   "metadata": {},
   "source": [
    "## import libraries"
   ]
  },
  {
   "cell_type": "code",
   "execution_count": 1,
   "metadata": {},
   "outputs": [],
   "source": [
    "import joblib\n",
    "import os\n",
    "import lightgbm as lgb\n",
    "import numpy as np\n",
    "import pandas as pd\n",
    "\n",
    "from lightgbm import LGBMClassifier\n",
    "from sklearn.metrics import roc_auc_score\n",
    "from sklearn.model_selection import train_test_split\n",
    "from sklearn.preprocessing import LabelEncoder"
   ]
  },
  {
   "cell_type": "markdown",
   "metadata": {},
   "source": [
    "## change working directory"
   ]
  },
  {
   "cell_type": "code",
   "execution_count": 2,
   "metadata": {},
   "outputs": [],
   "source": [
    "os.chdir('..')"
   ]
  },
  {
   "cell_type": "markdown",
   "metadata": {},
   "source": [
    "## define paths"
   ]
  },
  {
   "cell_type": "code",
   "execution_count": 3,
   "metadata": {},
   "outputs": [],
   "source": [
    "model_dir_path = 'models/fe/'\n",
    "output_dir_path = 'output/fe/'\n",
    "\n",
    "os.makedirs(model_dir_path, exist_ok=True)\n",
    "os.makedirs(output_dir_path, exist_ok=True)\n",
    "\n",
    "train_transaction_data_path = 'data/train_transaction.csv'\n",
    "train_identity_data_path = 'data/train_identity.csv'\n",
    "test_transaction_data_path = 'data/test_transaction.csv'\n",
    "test_identity_data_path = 'data/test_identity.csv'"
   ]
  },
  {
   "cell_type": "markdown",
   "metadata": {},
   "source": [
    "## define utility function to reduce memory usage"
   ]
  },
  {
   "cell_type": "code",
   "execution_count": 4,
   "metadata": {},
   "outputs": [],
   "source": [
    "def reduce_mem_usage(df, verbose=True):\n",
    "    \"\"\"\n",
    "    Reduce dataframe size\n",
    "\n",
    "    params:\n",
    "    - df: dataframe to reduce the size of\n",
    "\n",
    "    return:\n",
    "    - dataframe of reduced size\n",
    "    \"\"\"\n",
    "    numerics = ['int16', 'int32', 'int64', 'float16', 'float32', 'float64', 'float128']\n",
    "    start_mem = df.memory_usage().sum() / 1024**2    \n",
    "\n",
    "    for col in df.columns:\n",
    "        col_type = df[col].dtypes\n",
    "\n",
    "        if col_type in numerics:\n",
    "            c_min = df[col].min()\n",
    "            c_max = df[col].max()\n",
    "\n",
    "            if str(col_type)[:3] == 'int':\n",
    "                if c_min > np.iinfo(np.int8).min and c_max < np.iinfo(np.int8).max:\n",
    "                    df[col] = df[col].astype(np.int8)\n",
    "                elif c_min > np.iinfo(np.int16).min and c_max < np.iinfo(np.int16).max:\n",
    "                    df[col] = df[col].astype(np.int16)\n",
    "                elif c_min > np.iinfo(np.int32).min and c_max < np.iinfo(np.int32).max:\n",
    "                    df[col] = df[col].astype(np.int32)\n",
    "                elif c_min > np.iinfo(np.int64).min and c_max < np.iinfo(np.int64).max:\n",
    "                    df[col] = df[col].astype(np.int64)\n",
    "            else:\n",
    "                if c_min > np.finfo(np.float16).min and c_max < np.finfo(np.float16).max:\n",
    "                    df[col] = df[col].astype(np.float16)\n",
    "                elif c_min > np.finfo(np.float32).min and c_max < np.finfo(np.float32).max:\n",
    "                    df[col] = df[col].astype(np.float32)\n",
    "                elif c_min > np.finfo(np.float64).min and c_max < np.finfo(np.float64).max:\n",
    "                    df[col] = df[col].astype(np.float64)\n",
    "                elif c_min > np.finfo(np.float128).min and c_max < np.finfo(np.float128).max:\n",
    "                    df[col] = df[col].astype(np.float128)\n",
    "                    \n",
    "    end_mem = df.memory_usage().sum() / 1024**2\n",
    "\n",
    "    if verbose: \n",
    "        print(\n",
    "            'Mem. usage decreased to {:5.2f} Mb ({:.1f}% reduction)'.format(\n",
    "            end_mem, 100 * (start_mem - end_mem) / start_mem\n",
    "        ))\n",
    "\n",
    "    return df"
   ]
  },
  {
   "cell_type": "markdown",
   "metadata": {},
   "source": [
    "## list down useless features (known from feature selection)"
   ]
  },
  {
   "cell_type": "code",
   "execution_count": 5,
   "metadata": {},
   "outputs": [],
   "source": [
    "useless_features = [\n",
    "    'TransactionID',  # not really a feature\n",
    "    'dist2',  # transaction features\n",
    "    'C3',  # C features\n",
    "    'D6', 'D7', 'D8', 'D9', 'D12', 'D13', 'D14',  # D features\n",
    "    'M1',  # M features\n",
    "    'id_07', 'id_08', 'id_18', 'id_21', 'id_22', 'id_23',  # id features\n",
    "    'id_24', 'id_25', 'id_26', 'id_27', 'id_28', 'id_35',  # id features\n",
    "    'V6', 'V8', 'V9', 'V10', 'V11', 'V14', 'V15', 'V16',  # V features\n",
    "    'V18', 'V21', 'V22', 'V27', 'V28', 'V31', 'V32',  # V features\n",
    "    'V41', 'V42', 'V46', 'V50', 'V51', 'V59', 'V65',  # V features\n",
    "    'V68', 'V71', 'V72', 'V79', 'V80', 'V84', 'V85',  # V features\n",
    "    'V88', 'V89', 'V92', 'V93', 'V95', 'V98', 'V101',  # V features\n",
    "    'V104', 'V106', 'V107', 'V108', 'V109', 'V110',  # V features\n",
    "    'V111', 'V112', 'V113', 'V114', 'V116', 'V117',  # V features\n",
    "    'V118', 'V119', 'V120', 'V121', 'V122', 'V123',  # V features \n",
    "    'V125', 'V138', 'V141', 'V142', 'V144', 'V146',  # V features \n",
    "    'V147', 'V148', 'V151', 'V153', 'V154', 'V155',  # V features \n",
    "    'V157', 'V158', 'V159', 'V161', 'V163', 'V164',  # V features \n",
    "    'V166', 'V172', 'V173', 'V174', 'V175', 'V176',  # V features \n",
    "    'V177', 'V178', 'V179', 'V180', 'V181', 'V182',  # V features  \n",
    "    'V183', 'V184', 'V185', 'V186', 'V190', 'V191',  # V features  \n",
    "    'V192', 'V193', 'V194', 'V195', 'V196', 'V197',  # V features  \n",
    "    'V198', 'V199', 'V214', 'V216', 'V220', 'V225',  # V features \n",
    "    'V226', 'V227', 'V230', 'V233', 'V235', 'V236',  # V features  \n",
    "    'V237', 'V238', 'V239', 'V240', 'V241', 'V242',  # V features \n",
    "    'V244', 'V246', 'V247', 'V248', 'V249', 'V250',  # V features \n",
    "    'V252', 'V254', 'V255', 'V269', 'V276', 'V297',  # V features \n",
    "    'V300', 'V302', 'V304', 'V305', 'V325', 'V327',  # V features  \n",
    "    'V328', 'V329', 'V330', 'V334', 'V335', 'V336',  # V features \n",
    "    'V337', 'V338', 'V339',  # V features \n",
    "]\n",
    ""
   ]
  },
  {
   "cell_type": "markdown",
   "metadata": {},
   "source": [
    "## define function to load training data\n",
    "\n",
    "- also drops useless features"
   ]
  },
  {
   "cell_type": "code",
   "execution_count": 6,
   "metadata": {},
   "outputs": [],
   "source": [
    "def load_training_data() -> pd.DataFrame:\n",
    "    transaction_dataframe = pd.read_csv(train_transaction_data_path)\n",
    "    transaction_dataframe = reduce_mem_usage(transaction_dataframe)\n",
    "\n",
    "    identity_dataframe = pd.read_csv(train_identity_data_path)\n",
    "    identity_dataframe = reduce_mem_usage(identity_dataframe)\n",
    "\n",
    "    dataframe = transaction_dataframe.merge(identity_dataframe, how='outer')\n",
    "    dataframe = dataframe.drop(useless_features, axis=1)\n",
    "\n",
    "    print(f'number of rows in training data: {len(dataframe)}')\n",
    "    return dataframe"
   ]
  },
  {
   "cell_type": "markdown",
   "metadata": {},
   "source": [
    "## define function to load test data\n",
    "\n",
    "- also drops useless features"
   ]
  },
  {
   "cell_type": "code",
   "execution_count": 7,
   "metadata": {},
   "outputs": [],
   "source": [
    "def load_test_data():\n",
    "    transaction_dataframe = pd.read_csv(test_transaction_data_path)\n",
    "    transaction_dataframe = reduce_mem_usage(transaction_dataframe)\n",
    "\n",
    "    identity_dataframe = pd.read_csv(test_identity_data_path)\n",
    "    identity_dataframe = reduce_mem_usage(identity_dataframe)\n",
    "    identity_dataframe = identity_dataframe.rename(\n",
    "        columns={\n",
    "            column: column.replace('-', '_')\n",
    "            for column in identity_dataframe.columns\n",
    "        }\n",
    "    )\n",
    "\n",
    "    dataframe = transaction_dataframe.merge(identity_dataframe, how='outer')\n",
    "    transaction_id_data = dataframe['TransactionID']  # need it for output\n",
    "\n",
    "    dataframe = dataframe.drop(useless_features, axis=1)\n",
    "\n",
    "    print(f'number of rows in test data: {len(dataframe)}')\n",
    "    return dataframe, transaction_id_data"
   ]
  },
  {
   "cell_type": "markdown",
   "metadata": {},
   "source": [
    "## define function to train LightGBM\n",
    "\n",
    "- using [reference notebook parameters](https://www.kaggle.com/nroman/lgb-single-model-lb-0-9419)"
   ]
  },
  {
   "cell_type": "code",
   "execution_count": 8,
   "metadata": {},
   "outputs": [],
   "source": [
    "def train_lgbm(df: pd.DataFrame) -> lgb.Booster:\n",
    "    \"\"\"\n",
    "    params:\n",
    "    - df (pd.DataFrame): data to be used to train lgbm\n",
    "\n",
    "    return:\n",
    "    - trained lightgbm classifier\n",
    "    \"\"\"\n",
    "    is_fraud_data = dataframe['isFraud']\n",
    "    features_dataframe = dataframe.drop('isFraud', axis=1)\n",
    "\n",
    "    train_features, val_features, train_target, val_target = train_test_split(\n",
    "        features_dataframe, \n",
    "        is_fraud_data, \n",
    "        test_size=0.1,\n",
    "    )\n",
    "\n",
    "    del features_dataframe\n",
    "    del is_fraud_data\n",
    "\n",
    "    train_data = lgb.Dataset(train_features, train_target)\n",
    "    val_data = lgb.Dataset(val_features, val_target)\n",
    "\n",
    "    del train_features\n",
    "    del train_target\n",
    "\n",
    "    params = {\n",
    "        'num_leaves': 491,\n",
    "        'min_child_weight': 0.03454472573214212,\n",
    "        'feature_fraction': 0.3797454081646243,\n",
    "        'bagging_fraction': 0.4181193142567742,\n",
    "        'min_data_in_leaf': 106,\n",
    "        'objective': 'binary',\n",
    "        'max_depth': -1,\n",
    "        'learning_rate': 0.006883242363721497,\n",
    "        'boosting_type': 'gbdt',\n",
    "        'bagging_seed': 11,\n",
    "        'metric': 'auc',\n",
    "        'verbosity': -1,\n",
    "        'reg_alpha': 0.3899927210061127,\n",
    "        'reg_lambda': 0.6485237330340494,\n",
    "        'random_state': 47,\n",
    "    }\n",
    "\n",
    "    classifier = lgb.train(\n",
    "        params, \n",
    "        train_set=train_data, \n",
    "        num_boost_round=10000, \n",
    "        valid_sets=[train_data, val_data],\n",
    "        verbose_eval=1000,\n",
    "        early_stopping_rounds=500,\n",
    "    )\n",
    "\n",
    "    prediction = classifier.predict(val_features)\n",
    "    auc = roc_auc_score(val_target, prediction)\n",
    "    print(f'AUC: {auc}')\n",
    "\n",
    "    return classifier"
   ]
  },
  {
   "cell_type": "markdown",
   "metadata": {},
   "source": [
    "## define function for performing inference"
   ]
  },
  {
   "cell_type": "code",
   "execution_count": 9,
   "metadata": {},
   "outputs": [],
   "source": [
    "def inference(classifier, test_df, transaction_id_data) -> pd.DataFrame:\n",
    "    \"\"\"\n",
    "    params:\n",
    "    - classifier: used to perform inference on test data\n",
    "    - test_df (pd.DataFrame): dataframe that contains test data\n",
    "    - transaction_id_data: the TransactionID column\n",
    "\n",
    "    return:\n",
    "    - dataframe in the right format for Kaggle submission\n",
    "    \"\"\"\n",
    "    prediction = classifier.predict(test_df)\n",
    "\n",
    "    return pd.DataFrame({\n",
    "        'TransactionID': transaction_id_data,\n",
    "        'isFraud': pd.Series(prediction),\n",
    "    })"
   ]
  },
  {
   "cell_type": "markdown",
   "metadata": {},
   "source": [
    "## define function to disregard browser versions"
   ]
  },
  {
   "cell_type": "code",
   "execution_count": 10,
   "metadata": {},
   "outputs": [],
   "source": [
    "def ignore_browser_version(df: pd.DataFrame, verbose: bool=True):\n",
    "    \"\"\"\n",
    "    params:\n",
    "    - df (pd.DataFrame): has id_31 as one of its columns\n",
    "    - verbose (bool): prints information if True\n",
    "\n",
    "    return: dataframe, after browser versions have been ignored\n",
    "    \"\"\"\n",
    "    browser_list = [\n",
    "        'aol',\n",
    "        'chrome',\n",
    "        'chromium',\n",
    "        'comodo',\n",
    "        'cyberfox',\n",
    "        'edge',\n",
    "        'firefox',\n",
    "        'icedragon',\n",
    "        'ie',\n",
    "        'iron',\n",
    "        'maxthon',\n",
    "        'opera',\n",
    "        'palemoon',\n",
    "        'puffin',\n",
    "        'safari',\n",
    "        'samsung',\n",
    "        'seamonkey',\n",
    "        'silk',\n",
    "        'waterfox',\n",
    "    ]\n",
    "\n",
    "    for index, browser in df.id_31.iteritems():\n",
    "        if not isinstance(browser, str):\n",
    "            continue  # nan remains as nan\n",
    "\n",
    "        new_browser = 'other'\n",
    "\n",
    "        for known_browser in browser_list:\n",
    "            if known_browser in browser:\n",
    "                new_browser = known_browser\n",
    "                break\n",
    "\n",
    "        df.at[index, 'id_31'] = new_browser\n",
    "\n",
    "    if verbose:\n",
    "        print('browsers:', df.id_31.unique())\n",
    "\n",
    "    return df"
   ]
  },
  {
   "cell_type": "markdown",
   "metadata": {},
   "source": [
    "## define function for preprocessing data\n",
    "\n",
    "- except creating day and time features"
   ]
  },
  {
   "cell_type": "code",
   "execution_count": 11,
   "metadata": {},
   "outputs": [],
   "source": [
    "def preprocess(df: pd.DataFrame, verbose: bool=True) -> pd.DataFrame:\n",
    "    \"\"\"\n",
    "    params:\n",
    "    - df (pd.DataFrame): dataframe that contains data for preprocessing\n",
    "    - verbose (bool): prints information if True\n",
    "\n",
    "    return:\n",
    "    - processed dataframe\n",
    "    \"\"\"\n",
    "    df = ignore_browser_version(df)\n",
    "\n",
    "    num_categories_cutoff = 30\n",
    "    le = LabelEncoder()\n",
    "\n",
    "    for column in df.columns:\n",
    "        if df[column].dtype == 'object':\n",
    "            if df[column].nunique() <= num_categories_cutoff:\n",
    "                df[column]= df[column].astype('category')\n",
    "            else:\n",
    "                df[column] = df[column].astype(str)\n",
    "                df[column] = le.fit_transform(df[column])\n",
    "        else:\n",
    "            df[column] = df[column].fillna(df[column].quantile().mean())\n",
    "\n",
    "    df = reduce_mem_usage(df)\n",
    "    return df"
   ]
  },
  {
   "cell_type": "markdown",
   "metadata": {},
   "source": [
    "## define function to create day (of the week) feature\n",
    "\n",
    "- [reference](https://www.kaggle.com/fchmiel/day-and-time-powerful-predictive-feature)"
   ]
  },
  {
   "cell_type": "code",
   "execution_count": 12,
   "metadata": {},
   "outputs": [],
   "source": [
    "def make_day_feature(df, offset=0.58, tname='TransactionDT'):\n",
    "    \"\"\"\n",
    "    Creates a day of the week feature, encoded as 0-6. \n",
    "    \n",
    "    params:\n",
    "    - df (pd.DataFrame): dataframe to manipulate\n",
    "    - offset (float): offset (in days) to shift the start/end of a day (default=0.58)\n",
    "    - tname (str): name of the time column in df (default='TransactionDT')\n",
    "\n",
    "    return:\n",
    "    - day column\n",
    "    \"\"\"\n",
    "    days = df[tname] / (3600*24)        \n",
    "    encoded_days = np.floor(days-1 + offset) % 7\n",
    "\n",
    "    return encoded_days"
   ]
  },
  {
   "cell_type": "markdown",
   "metadata": {},
   "source": [
    "## define function to create hour (of the day) feature\n",
    "\n",
    "- [reference](https://www.kaggle.com/fchmiel/day-and-time-powerful-predictive-feature)"
   ]
  },
  {
   "cell_type": "code",
   "execution_count": 13,
   "metadata": {},
   "outputs": [],
   "source": [
    "def make_hour_feature(df, tname='TransactionDT'):\n",
    "    \"\"\"\n",
    "    Creates an hour of the day feature, encoded as 0-23. \n",
    "    \n",
    "    params:\n",
    "    - df (pd.DataFrame): dataframe to manipulate\n",
    "    - tname (str): name of the time column in df (default='TransactionDT')\n",
    "\n",
    "    return:\n",
    "    - hour column\n",
    "    \"\"\"\n",
    "    hours = df[tname] / (3600)        \n",
    "    encoded_hours = np.floor(hours) % 24\n",
    "\n",
    "    return encoded_hours"
   ]
  },
  {
   "cell_type": "markdown",
   "metadata": {},
   "source": [
    "## load training data"
   ]
  },
  {
   "cell_type": "code",
   "execution_count": 14,
   "metadata": {},
   "outputs": [
    {
     "output_type": "stream",
     "name": "stdout",
     "text": "Mem. usage decreased to 542.35 Mb (69.4% reduction)\nMem. usage decreased to 25.86 Mb (42.7% reduction)\nnumber of rows in training data: 590540\nCPU times: user 53.1 s, sys: 36.2 s, total: 1min 29s\nWall time: 1min 29s\n"
    },
    {
     "output_type": "execute_result",
     "data": {
      "text/plain": "   isFraud  TransactionDT  TransactionAmt ProductCD  card1  card2  card3  \\\n0        0          86400            68.5         W  13926    NaN  150.0   \n1        0          86401            29.0         W   2755  404.0  150.0   \n2        0          86469            59.0         W   4663  490.0  150.0   \n3        0          86499            50.0         W  18132  567.0  150.0   \n4        0          86506            50.0         H   4497  514.0  150.0   \n\n        card4  card5   card6  ...        id_30                id_31  id_32  \\\n0    discover  142.0  credit  ...          NaN                  NaN    NaN   \n1  mastercard  102.0  credit  ...          NaN                  NaN    NaN   \n2        visa  166.0   debit  ...          NaN                  NaN    NaN   \n3  mastercard  117.0   debit  ...          NaN                  NaN    NaN   \n4  mastercard  102.0  credit  ...  Android 7.0  samsung browser 6.2   32.0   \n\n       id_33           id_34  id_36  id_37  id_38  DeviceType  \\\n0        NaN             NaN    NaN    NaN    NaN         NaN   \n1        NaN             NaN    NaN    NaN    NaN         NaN   \n2        NaN             NaN    NaN    NaN    NaN         NaN   \n3        NaN             NaN    NaN    NaN    NaN         NaN   \n4  2220x1080  match_status:2      F      T      T      mobile   \n\n                      DeviceInfo  \n0                            NaN  \n1                            NaN  \n2                            NaN  \n3                            NaN  \n4  SAMSUNG SM-G892A Build/NRD90M  \n\n[5 rows x 270 columns]",
      "text/html": "<div>\n<style scoped>\n    .dataframe tbody tr th:only-of-type {\n        vertical-align: middle;\n    }\n\n    .dataframe tbody tr th {\n        vertical-align: top;\n    }\n\n    .dataframe thead th {\n        text-align: right;\n    }\n</style>\n<table border=\"1\" class=\"dataframe\">\n  <thead>\n    <tr style=\"text-align: right;\">\n      <th></th>\n      <th>isFraud</th>\n      <th>TransactionDT</th>\n      <th>TransactionAmt</th>\n      <th>ProductCD</th>\n      <th>card1</th>\n      <th>card2</th>\n      <th>card3</th>\n      <th>card4</th>\n      <th>card5</th>\n      <th>card6</th>\n      <th>...</th>\n      <th>id_30</th>\n      <th>id_31</th>\n      <th>id_32</th>\n      <th>id_33</th>\n      <th>id_34</th>\n      <th>id_36</th>\n      <th>id_37</th>\n      <th>id_38</th>\n      <th>DeviceType</th>\n      <th>DeviceInfo</th>\n    </tr>\n  </thead>\n  <tbody>\n    <tr>\n      <th>0</th>\n      <td>0</td>\n      <td>86400</td>\n      <td>68.5</td>\n      <td>W</td>\n      <td>13926</td>\n      <td>NaN</td>\n      <td>150.0</td>\n      <td>discover</td>\n      <td>142.0</td>\n      <td>credit</td>\n      <td>...</td>\n      <td>NaN</td>\n      <td>NaN</td>\n      <td>NaN</td>\n      <td>NaN</td>\n      <td>NaN</td>\n      <td>NaN</td>\n      <td>NaN</td>\n      <td>NaN</td>\n      <td>NaN</td>\n      <td>NaN</td>\n    </tr>\n    <tr>\n      <th>1</th>\n      <td>0</td>\n      <td>86401</td>\n      <td>29.0</td>\n      <td>W</td>\n      <td>2755</td>\n      <td>404.0</td>\n      <td>150.0</td>\n      <td>mastercard</td>\n      <td>102.0</td>\n      <td>credit</td>\n      <td>...</td>\n      <td>NaN</td>\n      <td>NaN</td>\n      <td>NaN</td>\n      <td>NaN</td>\n      <td>NaN</td>\n      <td>NaN</td>\n      <td>NaN</td>\n      <td>NaN</td>\n      <td>NaN</td>\n      <td>NaN</td>\n    </tr>\n    <tr>\n      <th>2</th>\n      <td>0</td>\n      <td>86469</td>\n      <td>59.0</td>\n      <td>W</td>\n      <td>4663</td>\n      <td>490.0</td>\n      <td>150.0</td>\n      <td>visa</td>\n      <td>166.0</td>\n      <td>debit</td>\n      <td>...</td>\n      <td>NaN</td>\n      <td>NaN</td>\n      <td>NaN</td>\n      <td>NaN</td>\n      <td>NaN</td>\n      <td>NaN</td>\n      <td>NaN</td>\n      <td>NaN</td>\n      <td>NaN</td>\n      <td>NaN</td>\n    </tr>\n    <tr>\n      <th>3</th>\n      <td>0</td>\n      <td>86499</td>\n      <td>50.0</td>\n      <td>W</td>\n      <td>18132</td>\n      <td>567.0</td>\n      <td>150.0</td>\n      <td>mastercard</td>\n      <td>117.0</td>\n      <td>debit</td>\n      <td>...</td>\n      <td>NaN</td>\n      <td>NaN</td>\n      <td>NaN</td>\n      <td>NaN</td>\n      <td>NaN</td>\n      <td>NaN</td>\n      <td>NaN</td>\n      <td>NaN</td>\n      <td>NaN</td>\n      <td>NaN</td>\n    </tr>\n    <tr>\n      <th>4</th>\n      <td>0</td>\n      <td>86506</td>\n      <td>50.0</td>\n      <td>H</td>\n      <td>4497</td>\n      <td>514.0</td>\n      <td>150.0</td>\n      <td>mastercard</td>\n      <td>102.0</td>\n      <td>credit</td>\n      <td>...</td>\n      <td>Android 7.0</td>\n      <td>samsung browser 6.2</td>\n      <td>32.0</td>\n      <td>2220x1080</td>\n      <td>match_status:2</td>\n      <td>F</td>\n      <td>T</td>\n      <td>T</td>\n      <td>mobile</td>\n      <td>SAMSUNG SM-G892A Build/NRD90M</td>\n    </tr>\n  </tbody>\n</table>\n<p>5 rows × 270 columns</p>\n</div>"
     },
     "metadata": {},
     "execution_count": 14
    }
   ],
   "source": [
    "%%time\n",
    "\n",
    "dataframe = load_training_data()\n",
    "dataframe.head()"
   ]
  },
  {
   "cell_type": "markdown",
   "metadata": {},
   "source": [
    "## use TransactionDT as it is"
   ]
  },
  {
   "cell_type": "code",
   "execution_count": 15,
   "metadata": {},
   "outputs": [
    {
     "output_type": "stream",
     "name": "stdout",
     "text": "browsers: [nan 'samsung' 'safari' 'chrome' 'edge' 'firefox' 'ie' 'other' 'opera'\n 'aol' 'silk' 'waterfox' 'puffin' 'cyberfox' 'palemoon' 'maxthon' 'iron'\n 'seamonkey' 'comodo' 'chromium' 'icedragon']\nMem. usage decreased to 357.35 Mb (4.9% reduction)\n"
    }
   ],
   "source": [
    "dataframe = preprocess(dataframe)"
   ]
  },
  {
   "cell_type": "markdown",
   "metadata": {},
   "source": [
    "## train model"
   ]
  },
  {
   "cell_type": "code",
   "execution_count": 16,
   "metadata": {},
   "outputs": [
    {
     "output_type": "stream",
     "name": "stdout",
     "text": "Training until validation scores don't improve for 500 rounds\n[1000]\ttraining's auc: 0.992411\tvalid_1's auc: 0.969014\n[2000]\ttraining's auc: 0.998925\tvalid_1's auc: 0.976098\n[3000]\ttraining's auc: 0.999804\tvalid_1's auc: 0.977935\n[4000]\ttraining's auc: 0.999977\tvalid_1's auc: 0.978499\n[5000]\ttraining's auc: 0.999998\tvalid_1's auc: 0.978765\n[6000]\ttraining's auc: 1\tvalid_1's auc: 0.978939\nEarly stopping, best iteration is:\n[6019]\ttraining's auc: 1\tvalid_1's auc: 0.978945\nAUC: 0.978945247092173\n"
    },
    {
     "output_type": "execute_result",
     "data": {
      "text/plain": "['models/fe/transaction_dt.joblib']"
     },
     "metadata": {},
     "execution_count": 16
    }
   ],
   "source": [
    "classifier = train_lgbm(dataframe)\n",
    "joblib.dump(classifier, model_dir_path + 'transaction_dt.joblib')  # save model"
   ]
  },
  {
   "cell_type": "markdown",
   "metadata": {},
   "source": [
    "## load test data"
   ]
  },
  {
   "cell_type": "code",
   "execution_count": 17,
   "metadata": {},
   "outputs": [
    {
     "output_type": "stream",
     "name": "stdout",
     "text": "Mem. usage decreased to 472.59 Mb (68.9% reduction)\nMem. usage decreased to 25.44 Mb (42.7% reduction)\nnumber of rows in test data: 506691\nCPU times: user 46.5 s, sys: 31.6 s, total: 1min 18s\nWall time: 1min 18s\n"
    },
    {
     "output_type": "execute_result",
     "data": {
      "text/plain": "   TransactionDT  TransactionAmt ProductCD  card1  card2  card3       card4  \\\n0       18403224       31.953125         W  10409  111.0  150.0        visa   \n1       18403263       49.000000         W   4272  111.0  150.0        visa   \n2       18403310      171.000000         W   4476  574.0  150.0        visa   \n3       18403310      285.000000         W  10989  360.0  150.0        visa   \n4       18403317       67.937500         W  18018  452.0  150.0  mastercard   \n\n   card5  card6  addr1  ...  id_30  id_31 id_32 id_33  id_34  id_36  id_37  \\\n0  226.0  debit  170.0  ...    NaN    NaN   NaN   NaN    NaN    NaN    NaN   \n1  226.0  debit  299.0  ...    NaN    NaN   NaN   NaN    NaN    NaN    NaN   \n2  226.0  debit  472.0  ...    NaN    NaN   NaN   NaN    NaN    NaN    NaN   \n3  166.0  debit  205.0  ...    NaN    NaN   NaN   NaN    NaN    NaN    NaN   \n4  117.0  debit  264.0  ...    NaN    NaN   NaN   NaN    NaN    NaN    NaN   \n\n   id_38  DeviceType  DeviceInfo  \n0    NaN         NaN         NaN  \n1    NaN         NaN         NaN  \n2    NaN         NaN         NaN  \n3    NaN         NaN         NaN  \n4    NaN         NaN         NaN  \n\n[5 rows x 269 columns]",
      "text/html": "<div>\n<style scoped>\n    .dataframe tbody tr th:only-of-type {\n        vertical-align: middle;\n    }\n\n    .dataframe tbody tr th {\n        vertical-align: top;\n    }\n\n    .dataframe thead th {\n        text-align: right;\n    }\n</style>\n<table border=\"1\" class=\"dataframe\">\n  <thead>\n    <tr style=\"text-align: right;\">\n      <th></th>\n      <th>TransactionDT</th>\n      <th>TransactionAmt</th>\n      <th>ProductCD</th>\n      <th>card1</th>\n      <th>card2</th>\n      <th>card3</th>\n      <th>card4</th>\n      <th>card5</th>\n      <th>card6</th>\n      <th>addr1</th>\n      <th>...</th>\n      <th>id_30</th>\n      <th>id_31</th>\n      <th>id_32</th>\n      <th>id_33</th>\n      <th>id_34</th>\n      <th>id_36</th>\n      <th>id_37</th>\n      <th>id_38</th>\n      <th>DeviceType</th>\n      <th>DeviceInfo</th>\n    </tr>\n  </thead>\n  <tbody>\n    <tr>\n      <th>0</th>\n      <td>18403224</td>\n      <td>31.953125</td>\n      <td>W</td>\n      <td>10409</td>\n      <td>111.0</td>\n      <td>150.0</td>\n      <td>visa</td>\n      <td>226.0</td>\n      <td>debit</td>\n      <td>170.0</td>\n      <td>...</td>\n      <td>NaN</td>\n      <td>NaN</td>\n      <td>NaN</td>\n      <td>NaN</td>\n      <td>NaN</td>\n      <td>NaN</td>\n      <td>NaN</td>\n      <td>NaN</td>\n      <td>NaN</td>\n      <td>NaN</td>\n    </tr>\n    <tr>\n      <th>1</th>\n      <td>18403263</td>\n      <td>49.000000</td>\n      <td>W</td>\n      <td>4272</td>\n      <td>111.0</td>\n      <td>150.0</td>\n      <td>visa</td>\n      <td>226.0</td>\n      <td>debit</td>\n      <td>299.0</td>\n      <td>...</td>\n      <td>NaN</td>\n      <td>NaN</td>\n      <td>NaN</td>\n      <td>NaN</td>\n      <td>NaN</td>\n      <td>NaN</td>\n      <td>NaN</td>\n      <td>NaN</td>\n      <td>NaN</td>\n      <td>NaN</td>\n    </tr>\n    <tr>\n      <th>2</th>\n      <td>18403310</td>\n      <td>171.000000</td>\n      <td>W</td>\n      <td>4476</td>\n      <td>574.0</td>\n      <td>150.0</td>\n      <td>visa</td>\n      <td>226.0</td>\n      <td>debit</td>\n      <td>472.0</td>\n      <td>...</td>\n      <td>NaN</td>\n      <td>NaN</td>\n      <td>NaN</td>\n      <td>NaN</td>\n      <td>NaN</td>\n      <td>NaN</td>\n      <td>NaN</td>\n      <td>NaN</td>\n      <td>NaN</td>\n      <td>NaN</td>\n    </tr>\n    <tr>\n      <th>3</th>\n      <td>18403310</td>\n      <td>285.000000</td>\n      <td>W</td>\n      <td>10989</td>\n      <td>360.0</td>\n      <td>150.0</td>\n      <td>visa</td>\n      <td>166.0</td>\n      <td>debit</td>\n      <td>205.0</td>\n      <td>...</td>\n      <td>NaN</td>\n      <td>NaN</td>\n      <td>NaN</td>\n      <td>NaN</td>\n      <td>NaN</td>\n      <td>NaN</td>\n      <td>NaN</td>\n      <td>NaN</td>\n      <td>NaN</td>\n      <td>NaN</td>\n    </tr>\n    <tr>\n      <th>4</th>\n      <td>18403317</td>\n      <td>67.937500</td>\n      <td>W</td>\n      <td>18018</td>\n      <td>452.0</td>\n      <td>150.0</td>\n      <td>mastercard</td>\n      <td>117.0</td>\n      <td>debit</td>\n      <td>264.0</td>\n      <td>...</td>\n      <td>NaN</td>\n      <td>NaN</td>\n      <td>NaN</td>\n      <td>NaN</td>\n      <td>NaN</td>\n      <td>NaN</td>\n      <td>NaN</td>\n      <td>NaN</td>\n      <td>NaN</td>\n      <td>NaN</td>\n    </tr>\n  </tbody>\n</table>\n<p>5 rows × 269 columns</p>\n</div>"
     },
     "metadata": {},
     "execution_count": 17
    }
   ],
   "source": [
    "%%time\n",
    "\n",
    "dataframe, transaction_id_data = load_test_data()\n",
    "dataframe.head()"
   ]
  },
  {
   "cell_type": "markdown",
   "metadata": {},
   "source": [
    "## use TransactionDT as it is"
   ]
  },
  {
   "cell_type": "code",
   "execution_count": 18,
   "metadata": {},
   "outputs": [
    {
     "output_type": "stream",
     "name": "stdout",
     "text": "browsers: [nan 'chrome' 'ie' 'safari' 'edge' 'firefox' 'samsung' 'other' 'opera'\n 'palemoon']\nMem. usage decreased to 315.73 Mb (4.8% reduction)\n"
    }
   ],
   "source": [
    "dataframe = preprocess(dataframe)"
   ]
  },
  {
   "cell_type": "markdown",
   "metadata": {},
   "source": [
    "## do inference and get output"
   ]
  },
  {
   "cell_type": "code",
   "execution_count": 19,
   "metadata": {},
   "outputs": [
    {
     "output_type": "stream",
     "name": "stdout",
     "text": "CPU times: user 40min 20s, sys: 5.32 s, total: 40min 25s\nWall time: 3min 53s\n"
    },
    {
     "output_type": "execute_result",
     "data": {
      "text/plain": "   TransactionID   isFraud\n0        3663549  0.000311\n1        3663550  0.000063\n2        3663551  0.000205\n3        3663552  0.000396\n4        3663553  0.000063",
      "text/html": "<div>\n<style scoped>\n    .dataframe tbody tr th:only-of-type {\n        vertical-align: middle;\n    }\n\n    .dataframe tbody tr th {\n        vertical-align: top;\n    }\n\n    .dataframe thead th {\n        text-align: right;\n    }\n</style>\n<table border=\"1\" class=\"dataframe\">\n  <thead>\n    <tr style=\"text-align: right;\">\n      <th></th>\n      <th>TransactionID</th>\n      <th>isFraud</th>\n    </tr>\n  </thead>\n  <tbody>\n    <tr>\n      <th>0</th>\n      <td>3663549</td>\n      <td>0.000311</td>\n    </tr>\n    <tr>\n      <th>1</th>\n      <td>3663550</td>\n      <td>0.000063</td>\n    </tr>\n    <tr>\n      <th>2</th>\n      <td>3663551</td>\n      <td>0.000205</td>\n    </tr>\n    <tr>\n      <th>3</th>\n      <td>3663552</td>\n      <td>0.000396</td>\n    </tr>\n    <tr>\n      <th>4</th>\n      <td>3663553</td>\n      <td>0.000063</td>\n    </tr>\n  </tbody>\n</table>\n</div>"
     },
     "metadata": {},
     "execution_count": 19
    }
   ],
   "source": [
    "%%time\n",
    "\n",
    "classifier = joblib.load(model_dir_path + 'transaction_dt.joblib')  # load model\n",
    "\n",
    "output_dataframe = inference(classifier, dataframe, transaction_id_data)\n",
    "output_dataframe.to_csv(output_dir_path + 'transaction_dt.csv', index=False)\n",
    "\n",
    "output_dataframe.head()"
   ]
  },
  {
   "cell_type": "markdown",
   "metadata": {},
   "source": [
    "## AUC (using TransactionDT as it is)\n",
    "\n",
    "- validation: 0.978945247092173\n",
    "- Kaggle public score: 0.940459\n",
    "- Kaggle private score: 0.914248"
   ]
  },
  {
   "cell_type": "markdown",
   "metadata": {},
   "source": [
    "## load training data"
   ]
  },
  {
   "cell_type": "code",
   "execution_count": 20,
   "metadata": {},
   "outputs": [
    {
     "output_type": "stream",
     "name": "stdout",
     "text": "Mem. usage decreased to 542.35 Mb (69.4% reduction)\nMem. usage decreased to 25.86 Mb (42.7% reduction)\nnumber of rows in training data: 590540\nCPU times: user 53.9 s, sys: 37 s, total: 1min 30s\nWall time: 1min 31s\n"
    },
    {
     "output_type": "execute_result",
     "data": {
      "text/plain": "   isFraud  TransactionDT  TransactionAmt ProductCD  card1  card2  card3  \\\n0        0          86400            68.5         W  13926    NaN  150.0   \n1        0          86401            29.0         W   2755  404.0  150.0   \n2        0          86469            59.0         W   4663  490.0  150.0   \n3        0          86499            50.0         W  18132  567.0  150.0   \n4        0          86506            50.0         H   4497  514.0  150.0   \n\n        card4  card5   card6  ...        id_30                id_31  id_32  \\\n0    discover  142.0  credit  ...          NaN                  NaN    NaN   \n1  mastercard  102.0  credit  ...          NaN                  NaN    NaN   \n2        visa  166.0   debit  ...          NaN                  NaN    NaN   \n3  mastercard  117.0   debit  ...          NaN                  NaN    NaN   \n4  mastercard  102.0  credit  ...  Android 7.0  samsung browser 6.2   32.0   \n\n       id_33           id_34  id_36  id_37  id_38  DeviceType  \\\n0        NaN             NaN    NaN    NaN    NaN         NaN   \n1        NaN             NaN    NaN    NaN    NaN         NaN   \n2        NaN             NaN    NaN    NaN    NaN         NaN   \n3        NaN             NaN    NaN    NaN    NaN         NaN   \n4  2220x1080  match_status:2      F      T      T      mobile   \n\n                      DeviceInfo  \n0                            NaN  \n1                            NaN  \n2                            NaN  \n3                            NaN  \n4  SAMSUNG SM-G892A Build/NRD90M  \n\n[5 rows x 270 columns]",
      "text/html": "<div>\n<style scoped>\n    .dataframe tbody tr th:only-of-type {\n        vertical-align: middle;\n    }\n\n    .dataframe tbody tr th {\n        vertical-align: top;\n    }\n\n    .dataframe thead th {\n        text-align: right;\n    }\n</style>\n<table border=\"1\" class=\"dataframe\">\n  <thead>\n    <tr style=\"text-align: right;\">\n      <th></th>\n      <th>isFraud</th>\n      <th>TransactionDT</th>\n      <th>TransactionAmt</th>\n      <th>ProductCD</th>\n      <th>card1</th>\n      <th>card2</th>\n      <th>card3</th>\n      <th>card4</th>\n      <th>card5</th>\n      <th>card6</th>\n      <th>...</th>\n      <th>id_30</th>\n      <th>id_31</th>\n      <th>id_32</th>\n      <th>id_33</th>\n      <th>id_34</th>\n      <th>id_36</th>\n      <th>id_37</th>\n      <th>id_38</th>\n      <th>DeviceType</th>\n      <th>DeviceInfo</th>\n    </tr>\n  </thead>\n  <tbody>\n    <tr>\n      <th>0</th>\n      <td>0</td>\n      <td>86400</td>\n      <td>68.5</td>\n      <td>W</td>\n      <td>13926</td>\n      <td>NaN</td>\n      <td>150.0</td>\n      <td>discover</td>\n      <td>142.0</td>\n      <td>credit</td>\n      <td>...</td>\n      <td>NaN</td>\n      <td>NaN</td>\n      <td>NaN</td>\n      <td>NaN</td>\n      <td>NaN</td>\n      <td>NaN</td>\n      <td>NaN</td>\n      <td>NaN</td>\n      <td>NaN</td>\n      <td>NaN</td>\n    </tr>\n    <tr>\n      <th>1</th>\n      <td>0</td>\n      <td>86401</td>\n      <td>29.0</td>\n      <td>W</td>\n      <td>2755</td>\n      <td>404.0</td>\n      <td>150.0</td>\n      <td>mastercard</td>\n      <td>102.0</td>\n      <td>credit</td>\n      <td>...</td>\n      <td>NaN</td>\n      <td>NaN</td>\n      <td>NaN</td>\n      <td>NaN</td>\n      <td>NaN</td>\n      <td>NaN</td>\n      <td>NaN</td>\n      <td>NaN</td>\n      <td>NaN</td>\n      <td>NaN</td>\n    </tr>\n    <tr>\n      <th>2</th>\n      <td>0</td>\n      <td>86469</td>\n      <td>59.0</td>\n      <td>W</td>\n      <td>4663</td>\n      <td>490.0</td>\n      <td>150.0</td>\n      <td>visa</td>\n      <td>166.0</td>\n      <td>debit</td>\n      <td>...</td>\n      <td>NaN</td>\n      <td>NaN</td>\n      <td>NaN</td>\n      <td>NaN</td>\n      <td>NaN</td>\n      <td>NaN</td>\n      <td>NaN</td>\n      <td>NaN</td>\n      <td>NaN</td>\n      <td>NaN</td>\n    </tr>\n    <tr>\n      <th>3</th>\n      <td>0</td>\n      <td>86499</td>\n      <td>50.0</td>\n      <td>W</td>\n      <td>18132</td>\n      <td>567.0</td>\n      <td>150.0</td>\n      <td>mastercard</td>\n      <td>117.0</td>\n      <td>debit</td>\n      <td>...</td>\n      <td>NaN</td>\n      <td>NaN</td>\n      <td>NaN</td>\n      <td>NaN</td>\n      <td>NaN</td>\n      <td>NaN</td>\n      <td>NaN</td>\n      <td>NaN</td>\n      <td>NaN</td>\n      <td>NaN</td>\n    </tr>\n    <tr>\n      <th>4</th>\n      <td>0</td>\n      <td>86506</td>\n      <td>50.0</td>\n      <td>H</td>\n      <td>4497</td>\n      <td>514.0</td>\n      <td>150.0</td>\n      <td>mastercard</td>\n      <td>102.0</td>\n      <td>credit</td>\n      <td>...</td>\n      <td>Android 7.0</td>\n      <td>samsung browser 6.2</td>\n      <td>32.0</td>\n      <td>2220x1080</td>\n      <td>match_status:2</td>\n      <td>F</td>\n      <td>T</td>\n      <td>T</td>\n      <td>mobile</td>\n      <td>SAMSUNG SM-G892A Build/NRD90M</td>\n    </tr>\n  </tbody>\n</table>\n<p>5 rows × 270 columns</p>\n</div>"
     },
     "metadata": {},
     "execution_count": 20
    }
   ],
   "source": [
    "%%time\n",
    "\n",
    "dataframe = load_training_data()\n",
    "dataframe.head()"
   ]
  },
  {
   "cell_type": "markdown",
   "metadata": {},
   "source": [
    "## extract day from TransactionDT"
   ]
  },
  {
   "cell_type": "code",
   "execution_count": 21,
   "metadata": {},
   "outputs": [
    {
     "output_type": "stream",
     "name": "stdout",
     "text": "browsers: [nan 'samsung' 'safari' 'chrome' 'edge' 'firefox' 'ie' 'other' 'opera'\n 'aol' 'silk' 'waterfox' 'puffin' 'cyberfox' 'palemoon' 'maxthon' 'iron'\n 'seamonkey' 'comodo' 'chromium' 'icedragon']\nMem. usage decreased to 356.22 Mb (5.8% reduction)\n"
    }
   ],
   "source": [
    "dataframe['day'] = make_day_feature(dataframe, offset=0.58)\n",
    "dataframe = dataframe.drop('TransactionDT', axis=1)\n",
    "dataframe = preprocess(dataframe)"
   ]
  },
  {
   "cell_type": "markdown",
   "metadata": {},
   "source": [
    "## train model"
   ]
  },
  {
   "cell_type": "code",
   "execution_count": 22,
   "metadata": {},
   "outputs": [
    {
     "output_type": "stream",
     "name": "stdout",
     "text": "Training until validation scores don't improve for 500 rounds\n[1000]\ttraining's auc: 0.991258\tvalid_1's auc: 0.970076\n[2000]\ttraining's auc: 0.998263\tvalid_1's auc: 0.975788\n[3000]\ttraining's auc: 0.999553\tvalid_1's auc: 0.977459\n[4000]\ttraining's auc: 0.999907\tvalid_1's auc: 0.977829\n[5000]\ttraining's auc: 0.999983\tvalid_1's auc: 0.97789\nEarly stopping, best iteration is:\n[4677]\ttraining's auc: 0.999971\tvalid_1's auc: 0.977912\nAUC: 0.9779124794073768\n"
    },
    {
     "output_type": "execute_result",
     "data": {
      "text/plain": "['models/fe/day.joblib']"
     },
     "metadata": {},
     "execution_count": 22
    }
   ],
   "source": [
    "classifier = train_lgbm(dataframe)\n",
    "joblib.dump(classifier, model_dir_path + 'day.joblib')  # save model"
   ]
  },
  {
   "cell_type": "markdown",
   "metadata": {},
   "source": [
    "## load test data"
   ]
  },
  {
   "cell_type": "code",
   "execution_count": 23,
   "metadata": {},
   "outputs": [
    {
     "output_type": "stream",
     "name": "stdout",
     "text": "Mem. usage decreased to 472.59 Mb (68.9% reduction)\nMem. usage decreased to 25.44 Mb (42.7% reduction)\nnumber of rows in test data: 506691\nCPU times: user 43.7 s, sys: 29.5 s, total: 1min 13s\nWall time: 1min 13s\n"
    },
    {
     "output_type": "execute_result",
     "data": {
      "text/plain": "   TransactionDT  TransactionAmt ProductCD  card1  card2  card3       card4  \\\n0       18403224       31.953125         W  10409  111.0  150.0        visa   \n1       18403263       49.000000         W   4272  111.0  150.0        visa   \n2       18403310      171.000000         W   4476  574.0  150.0        visa   \n3       18403310      285.000000         W  10989  360.0  150.0        visa   \n4       18403317       67.937500         W  18018  452.0  150.0  mastercard   \n\n   card5  card6  addr1  ...  id_30  id_31 id_32 id_33  id_34  id_36  id_37  \\\n0  226.0  debit  170.0  ...    NaN    NaN   NaN   NaN    NaN    NaN    NaN   \n1  226.0  debit  299.0  ...    NaN    NaN   NaN   NaN    NaN    NaN    NaN   \n2  226.0  debit  472.0  ...    NaN    NaN   NaN   NaN    NaN    NaN    NaN   \n3  166.0  debit  205.0  ...    NaN    NaN   NaN   NaN    NaN    NaN    NaN   \n4  117.0  debit  264.0  ...    NaN    NaN   NaN   NaN    NaN    NaN    NaN   \n\n   id_38  DeviceType  DeviceInfo  \n0    NaN         NaN         NaN  \n1    NaN         NaN         NaN  \n2    NaN         NaN         NaN  \n3    NaN         NaN         NaN  \n4    NaN         NaN         NaN  \n\n[5 rows x 269 columns]",
      "text/html": "<div>\n<style scoped>\n    .dataframe tbody tr th:only-of-type {\n        vertical-align: middle;\n    }\n\n    .dataframe tbody tr th {\n        vertical-align: top;\n    }\n\n    .dataframe thead th {\n        text-align: right;\n    }\n</style>\n<table border=\"1\" class=\"dataframe\">\n  <thead>\n    <tr style=\"text-align: right;\">\n      <th></th>\n      <th>TransactionDT</th>\n      <th>TransactionAmt</th>\n      <th>ProductCD</th>\n      <th>card1</th>\n      <th>card2</th>\n      <th>card3</th>\n      <th>card4</th>\n      <th>card5</th>\n      <th>card6</th>\n      <th>addr1</th>\n      <th>...</th>\n      <th>id_30</th>\n      <th>id_31</th>\n      <th>id_32</th>\n      <th>id_33</th>\n      <th>id_34</th>\n      <th>id_36</th>\n      <th>id_37</th>\n      <th>id_38</th>\n      <th>DeviceType</th>\n      <th>DeviceInfo</th>\n    </tr>\n  </thead>\n  <tbody>\n    <tr>\n      <th>0</th>\n      <td>18403224</td>\n      <td>31.953125</td>\n      <td>W</td>\n      <td>10409</td>\n      <td>111.0</td>\n      <td>150.0</td>\n      <td>visa</td>\n      <td>226.0</td>\n      <td>debit</td>\n      <td>170.0</td>\n      <td>...</td>\n      <td>NaN</td>\n      <td>NaN</td>\n      <td>NaN</td>\n      <td>NaN</td>\n      <td>NaN</td>\n      <td>NaN</td>\n      <td>NaN</td>\n      <td>NaN</td>\n      <td>NaN</td>\n      <td>NaN</td>\n    </tr>\n    <tr>\n      <th>1</th>\n      <td>18403263</td>\n      <td>49.000000</td>\n      <td>W</td>\n      <td>4272</td>\n      <td>111.0</td>\n      <td>150.0</td>\n      <td>visa</td>\n      <td>226.0</td>\n      <td>debit</td>\n      <td>299.0</td>\n      <td>...</td>\n      <td>NaN</td>\n      <td>NaN</td>\n      <td>NaN</td>\n      <td>NaN</td>\n      <td>NaN</td>\n      <td>NaN</td>\n      <td>NaN</td>\n      <td>NaN</td>\n      <td>NaN</td>\n      <td>NaN</td>\n    </tr>\n    <tr>\n      <th>2</th>\n      <td>18403310</td>\n      <td>171.000000</td>\n      <td>W</td>\n      <td>4476</td>\n      <td>574.0</td>\n      <td>150.0</td>\n      <td>visa</td>\n      <td>226.0</td>\n      <td>debit</td>\n      <td>472.0</td>\n      <td>...</td>\n      <td>NaN</td>\n      <td>NaN</td>\n      <td>NaN</td>\n      <td>NaN</td>\n      <td>NaN</td>\n      <td>NaN</td>\n      <td>NaN</td>\n      <td>NaN</td>\n      <td>NaN</td>\n      <td>NaN</td>\n    </tr>\n    <tr>\n      <th>3</th>\n      <td>18403310</td>\n      <td>285.000000</td>\n      <td>W</td>\n      <td>10989</td>\n      <td>360.0</td>\n      <td>150.0</td>\n      <td>visa</td>\n      <td>166.0</td>\n      <td>debit</td>\n      <td>205.0</td>\n      <td>...</td>\n      <td>NaN</td>\n      <td>NaN</td>\n      <td>NaN</td>\n      <td>NaN</td>\n      <td>NaN</td>\n      <td>NaN</td>\n      <td>NaN</td>\n      <td>NaN</td>\n      <td>NaN</td>\n      <td>NaN</td>\n    </tr>\n    <tr>\n      <th>4</th>\n      <td>18403317</td>\n      <td>67.937500</td>\n      <td>W</td>\n      <td>18018</td>\n      <td>452.0</td>\n      <td>150.0</td>\n      <td>mastercard</td>\n      <td>117.0</td>\n      <td>debit</td>\n      <td>264.0</td>\n      <td>...</td>\n      <td>NaN</td>\n      <td>NaN</td>\n      <td>NaN</td>\n      <td>NaN</td>\n      <td>NaN</td>\n      <td>NaN</td>\n      <td>NaN</td>\n      <td>NaN</td>\n      <td>NaN</td>\n      <td>NaN</td>\n    </tr>\n  </tbody>\n</table>\n<p>5 rows × 269 columns</p>\n</div>"
     },
     "metadata": {},
     "execution_count": 23
    }
   ],
   "source": [
    "%%time\n",
    "\n",
    "dataframe, transaction_id_data = load_test_data()\n",
    "dataframe.head()"
   ]
  },
  {
   "cell_type": "markdown",
   "metadata": {},
   "source": [
    "## extract day from TransactionDT"
   ]
  },
  {
   "cell_type": "code",
   "execution_count": 24,
   "metadata": {},
   "outputs": [
    {
     "output_type": "stream",
     "name": "stdout",
     "text": "browsers: [nan 'chrome' 'ie' 'safari' 'edge' 'firefox' 'samsung' 'other' 'opera'\n 'palemoon']\nMem. usage decreased to 314.77 Mb (5.6% reduction)\n"
    }
   ],
   "source": [
    "dataframe['day'] = make_day_feature(dataframe, offset=0.58)\n",
    "dataframe = dataframe.drop('TransactionDT', axis=1)\n",
    "dataframe = preprocess(dataframe)"
   ]
  },
  {
   "cell_type": "markdown",
   "metadata": {},
   "source": [
    "## do inference and get output"
   ]
  },
  {
   "cell_type": "code",
   "execution_count": 25,
   "metadata": {},
   "outputs": [
    {
     "output_type": "stream",
     "name": "stdout",
     "text": "CPU times: user 32min 6s, sys: 2.96 s, total: 32min 9s\nWall time: 3min 7s\n"
    },
    {
     "output_type": "execute_result",
     "data": {
      "text/plain": "   TransactionID   isFraud\n0        3663549  0.000389\n1        3663550  0.000096\n2        3663551  0.000337\n3        3663552  0.000201\n4        3663553  0.000250",
      "text/html": "<div>\n<style scoped>\n    .dataframe tbody tr th:only-of-type {\n        vertical-align: middle;\n    }\n\n    .dataframe tbody tr th {\n        vertical-align: top;\n    }\n\n    .dataframe thead th {\n        text-align: right;\n    }\n</style>\n<table border=\"1\" class=\"dataframe\">\n  <thead>\n    <tr style=\"text-align: right;\">\n      <th></th>\n      <th>TransactionID</th>\n      <th>isFraud</th>\n    </tr>\n  </thead>\n  <tbody>\n    <tr>\n      <th>0</th>\n      <td>3663549</td>\n      <td>0.000389</td>\n    </tr>\n    <tr>\n      <th>1</th>\n      <td>3663550</td>\n      <td>0.000096</td>\n    </tr>\n    <tr>\n      <th>2</th>\n      <td>3663551</td>\n      <td>0.000337</td>\n    </tr>\n    <tr>\n      <th>3</th>\n      <td>3663552</td>\n      <td>0.000201</td>\n    </tr>\n    <tr>\n      <th>4</th>\n      <td>3663553</td>\n      <td>0.000250</td>\n    </tr>\n  </tbody>\n</table>\n</div>"
     },
     "metadata": {},
     "execution_count": 25
    }
   ],
   "source": [
    "%%time\n",
    "\n",
    "classifier = joblib.load(model_dir_path + 'day.joblib')  # load model\n",
    "\n",
    "output_dataframe = inference(classifier, dataframe, transaction_id_data)\n",
    "output_dataframe.to_csv(output_dir_path + 'day.csv', index=False)\n",
    "\n",
    "output_dataframe.head()"
   ]
  },
  {
   "cell_type": "markdown",
   "metadata": {},
   "source": [
    "## AUC (extract day from TransactionDT)\n",
    "\n",
    "- validation: 0.9779124794073768\n",
    "- Kaggle public score: 0.938442\n",
    "- Kaggle private score: 0.910745"
   ]
  },
  {
   "cell_type": "markdown",
   "metadata": {},
   "source": [
    "## load training data"
   ]
  },
  {
   "cell_type": "code",
   "execution_count": 26,
   "metadata": {},
   "outputs": [
    {
     "output_type": "stream",
     "name": "stdout",
     "text": "Mem. usage decreased to 542.35 Mb (69.4% reduction)\nMem. usage decreased to 25.86 Mb (42.7% reduction)\nnumber of rows in training data: 590540\nCPU times: user 53.4 s, sys: 37.3 s, total: 1min 30s\nWall time: 1min 30s\n"
    },
    {
     "output_type": "execute_result",
     "data": {
      "text/plain": "   isFraud  TransactionDT  TransactionAmt ProductCD  card1  card2  card3  \\\n0        0          86400            68.5         W  13926    NaN  150.0   \n1        0          86401            29.0         W   2755  404.0  150.0   \n2        0          86469            59.0         W   4663  490.0  150.0   \n3        0          86499            50.0         W  18132  567.0  150.0   \n4        0          86506            50.0         H   4497  514.0  150.0   \n\n        card4  card5   card6  ...        id_30                id_31  id_32  \\\n0    discover  142.0  credit  ...          NaN                  NaN    NaN   \n1  mastercard  102.0  credit  ...          NaN                  NaN    NaN   \n2        visa  166.0   debit  ...          NaN                  NaN    NaN   \n3  mastercard  117.0   debit  ...          NaN                  NaN    NaN   \n4  mastercard  102.0  credit  ...  Android 7.0  samsung browser 6.2   32.0   \n\n       id_33           id_34  id_36  id_37  id_38  DeviceType  \\\n0        NaN             NaN    NaN    NaN    NaN         NaN   \n1        NaN             NaN    NaN    NaN    NaN         NaN   \n2        NaN             NaN    NaN    NaN    NaN         NaN   \n3        NaN             NaN    NaN    NaN    NaN         NaN   \n4  2220x1080  match_status:2      F      T      T      mobile   \n\n                      DeviceInfo  \n0                            NaN  \n1                            NaN  \n2                            NaN  \n3                            NaN  \n4  SAMSUNG SM-G892A Build/NRD90M  \n\n[5 rows x 270 columns]",
      "text/html": "<div>\n<style scoped>\n    .dataframe tbody tr th:only-of-type {\n        vertical-align: middle;\n    }\n\n    .dataframe tbody tr th {\n        vertical-align: top;\n    }\n\n    .dataframe thead th {\n        text-align: right;\n    }\n</style>\n<table border=\"1\" class=\"dataframe\">\n  <thead>\n    <tr style=\"text-align: right;\">\n      <th></th>\n      <th>isFraud</th>\n      <th>TransactionDT</th>\n      <th>TransactionAmt</th>\n      <th>ProductCD</th>\n      <th>card1</th>\n      <th>card2</th>\n      <th>card3</th>\n      <th>card4</th>\n      <th>card5</th>\n      <th>card6</th>\n      <th>...</th>\n      <th>id_30</th>\n      <th>id_31</th>\n      <th>id_32</th>\n      <th>id_33</th>\n      <th>id_34</th>\n      <th>id_36</th>\n      <th>id_37</th>\n      <th>id_38</th>\n      <th>DeviceType</th>\n      <th>DeviceInfo</th>\n    </tr>\n  </thead>\n  <tbody>\n    <tr>\n      <th>0</th>\n      <td>0</td>\n      <td>86400</td>\n      <td>68.5</td>\n      <td>W</td>\n      <td>13926</td>\n      <td>NaN</td>\n      <td>150.0</td>\n      <td>discover</td>\n      <td>142.0</td>\n      <td>credit</td>\n      <td>...</td>\n      <td>NaN</td>\n      <td>NaN</td>\n      <td>NaN</td>\n      <td>NaN</td>\n      <td>NaN</td>\n      <td>NaN</td>\n      <td>NaN</td>\n      <td>NaN</td>\n      <td>NaN</td>\n      <td>NaN</td>\n    </tr>\n    <tr>\n      <th>1</th>\n      <td>0</td>\n      <td>86401</td>\n      <td>29.0</td>\n      <td>W</td>\n      <td>2755</td>\n      <td>404.0</td>\n      <td>150.0</td>\n      <td>mastercard</td>\n      <td>102.0</td>\n      <td>credit</td>\n      <td>...</td>\n      <td>NaN</td>\n      <td>NaN</td>\n      <td>NaN</td>\n      <td>NaN</td>\n      <td>NaN</td>\n      <td>NaN</td>\n      <td>NaN</td>\n      <td>NaN</td>\n      <td>NaN</td>\n      <td>NaN</td>\n    </tr>\n    <tr>\n      <th>2</th>\n      <td>0</td>\n      <td>86469</td>\n      <td>59.0</td>\n      <td>W</td>\n      <td>4663</td>\n      <td>490.0</td>\n      <td>150.0</td>\n      <td>visa</td>\n      <td>166.0</td>\n      <td>debit</td>\n      <td>...</td>\n      <td>NaN</td>\n      <td>NaN</td>\n      <td>NaN</td>\n      <td>NaN</td>\n      <td>NaN</td>\n      <td>NaN</td>\n      <td>NaN</td>\n      <td>NaN</td>\n      <td>NaN</td>\n      <td>NaN</td>\n    </tr>\n    <tr>\n      <th>3</th>\n      <td>0</td>\n      <td>86499</td>\n      <td>50.0</td>\n      <td>W</td>\n      <td>18132</td>\n      <td>567.0</td>\n      <td>150.0</td>\n      <td>mastercard</td>\n      <td>117.0</td>\n      <td>debit</td>\n      <td>...</td>\n      <td>NaN</td>\n      <td>NaN</td>\n      <td>NaN</td>\n      <td>NaN</td>\n      <td>NaN</td>\n      <td>NaN</td>\n      <td>NaN</td>\n      <td>NaN</td>\n      <td>NaN</td>\n      <td>NaN</td>\n    </tr>\n    <tr>\n      <th>4</th>\n      <td>0</td>\n      <td>86506</td>\n      <td>50.0</td>\n      <td>H</td>\n      <td>4497</td>\n      <td>514.0</td>\n      <td>150.0</td>\n      <td>mastercard</td>\n      <td>102.0</td>\n      <td>credit</td>\n      <td>...</td>\n      <td>Android 7.0</td>\n      <td>samsung browser 6.2</td>\n      <td>32.0</td>\n      <td>2220x1080</td>\n      <td>match_status:2</td>\n      <td>F</td>\n      <td>T</td>\n      <td>T</td>\n      <td>mobile</td>\n      <td>SAMSUNG SM-G892A Build/NRD90M</td>\n    </tr>\n  </tbody>\n</table>\n<p>5 rows × 270 columns</p>\n</div>"
     },
     "metadata": {},
     "execution_count": 26
    }
   ],
   "source": [
    "%%time\n",
    "\n",
    "dataframe = load_training_data()\n",
    "dataframe.head()"
   ]
  },
  {
   "cell_type": "markdown",
   "metadata": {},
   "source": [
    "## extract hour from TransactionDT"
   ]
  },
  {
   "cell_type": "code",
   "execution_count": 27,
   "metadata": {},
   "outputs": [
    {
     "output_type": "stream",
     "name": "stdout",
     "text": "browsers: [nan 'samsung' 'safari' 'chrome' 'edge' 'firefox' 'ie' 'other' 'opera'\n 'aol' 'silk' 'waterfox' 'puffin' 'cyberfox' 'palemoon' 'maxthon' 'iron'\n 'seamonkey' 'comodo' 'chromium' 'icedragon']\nMem. usage decreased to 356.22 Mb (5.8% reduction)\n"
    }
   ],
   "source": [
    "dataframe['hour'] = make_hour_feature(dataframe)\n",
    "dataframe = dataframe.drop('TransactionDT', axis=1)\n",
    "dataframe = preprocess(dataframe)"
   ]
  },
  {
   "cell_type": "markdown",
   "metadata": {},
   "source": [
    "## train model"
   ]
  },
  {
   "cell_type": "code",
   "execution_count": 28,
   "metadata": {},
   "outputs": [
    {
     "output_type": "stream",
     "name": "stdout",
     "text": "Training until validation scores don't improve for 500 rounds\n[1000]\ttraining's auc: 0.991817\tvalid_1's auc: 0.960774\n[2000]\ttraining's auc: 0.998488\tvalid_1's auc: 0.969077\n[3000]\ttraining's auc: 0.999636\tvalid_1's auc: 0.971422\n[4000]\ttraining's auc: 0.99993\tvalid_1's auc: 0.972302\n[5000]\ttraining's auc: 0.999986\tvalid_1's auc: 0.972671\n[6000]\ttraining's auc: 0.999998\tvalid_1's auc: 0.97286\n[7000]\ttraining's auc: 1\tvalid_1's auc: 0.972879\nEarly stopping, best iteration is:\n[6712]\ttraining's auc: 1\tvalid_1's auc: 0.972903\nAUC: 0.9729030850127821\n"
    },
    {
     "output_type": "execute_result",
     "data": {
      "text/plain": "['models/fe/hour.joblib']"
     },
     "metadata": {},
     "execution_count": 28
    }
   ],
   "source": [
    "classifier = train_lgbm(dataframe)\n",
    "joblib.dump(classifier, model_dir_path + 'hour.joblib')  # save model"
   ]
  },
  {
   "cell_type": "markdown",
   "metadata": {},
   "source": [
    "## load test data"
   ]
  },
  {
   "cell_type": "code",
   "execution_count": 29,
   "metadata": {},
   "outputs": [
    {
     "output_type": "stream",
     "name": "stdout",
     "text": "Mem. usage decreased to 472.59 Mb (68.9% reduction)\nMem. usage decreased to 25.44 Mb (42.7% reduction)\nnumber of rows in test data: 506691\nCPU times: user 44.6 s, sys: 30.5 s, total: 1min 15s\nWall time: 1min 15s\n"
    },
    {
     "output_type": "execute_result",
     "data": {
      "text/plain": "   TransactionDT  TransactionAmt ProductCD  card1  card2  card3       card4  \\\n0       18403224       31.953125         W  10409  111.0  150.0        visa   \n1       18403263       49.000000         W   4272  111.0  150.0        visa   \n2       18403310      171.000000         W   4476  574.0  150.0        visa   \n3       18403310      285.000000         W  10989  360.0  150.0        visa   \n4       18403317       67.937500         W  18018  452.0  150.0  mastercard   \n\n   card5  card6  addr1  ...  id_30  id_31 id_32 id_33  id_34  id_36  id_37  \\\n0  226.0  debit  170.0  ...    NaN    NaN   NaN   NaN    NaN    NaN    NaN   \n1  226.0  debit  299.0  ...    NaN    NaN   NaN   NaN    NaN    NaN    NaN   \n2  226.0  debit  472.0  ...    NaN    NaN   NaN   NaN    NaN    NaN    NaN   \n3  166.0  debit  205.0  ...    NaN    NaN   NaN   NaN    NaN    NaN    NaN   \n4  117.0  debit  264.0  ...    NaN    NaN   NaN   NaN    NaN    NaN    NaN   \n\n   id_38  DeviceType  DeviceInfo  \n0    NaN         NaN         NaN  \n1    NaN         NaN         NaN  \n2    NaN         NaN         NaN  \n3    NaN         NaN         NaN  \n4    NaN         NaN         NaN  \n\n[5 rows x 269 columns]",
      "text/html": "<div>\n<style scoped>\n    .dataframe tbody tr th:only-of-type {\n        vertical-align: middle;\n    }\n\n    .dataframe tbody tr th {\n        vertical-align: top;\n    }\n\n    .dataframe thead th {\n        text-align: right;\n    }\n</style>\n<table border=\"1\" class=\"dataframe\">\n  <thead>\n    <tr style=\"text-align: right;\">\n      <th></th>\n      <th>TransactionDT</th>\n      <th>TransactionAmt</th>\n      <th>ProductCD</th>\n      <th>card1</th>\n      <th>card2</th>\n      <th>card3</th>\n      <th>card4</th>\n      <th>card5</th>\n      <th>card6</th>\n      <th>addr1</th>\n      <th>...</th>\n      <th>id_30</th>\n      <th>id_31</th>\n      <th>id_32</th>\n      <th>id_33</th>\n      <th>id_34</th>\n      <th>id_36</th>\n      <th>id_37</th>\n      <th>id_38</th>\n      <th>DeviceType</th>\n      <th>DeviceInfo</th>\n    </tr>\n  </thead>\n  <tbody>\n    <tr>\n      <th>0</th>\n      <td>18403224</td>\n      <td>31.953125</td>\n      <td>W</td>\n      <td>10409</td>\n      <td>111.0</td>\n      <td>150.0</td>\n      <td>visa</td>\n      <td>226.0</td>\n      <td>debit</td>\n      <td>170.0</td>\n      <td>...</td>\n      <td>NaN</td>\n      <td>NaN</td>\n      <td>NaN</td>\n      <td>NaN</td>\n      <td>NaN</td>\n      <td>NaN</td>\n      <td>NaN</td>\n      <td>NaN</td>\n      <td>NaN</td>\n      <td>NaN</td>\n    </tr>\n    <tr>\n      <th>1</th>\n      <td>18403263</td>\n      <td>49.000000</td>\n      <td>W</td>\n      <td>4272</td>\n      <td>111.0</td>\n      <td>150.0</td>\n      <td>visa</td>\n      <td>226.0</td>\n      <td>debit</td>\n      <td>299.0</td>\n      <td>...</td>\n      <td>NaN</td>\n      <td>NaN</td>\n      <td>NaN</td>\n      <td>NaN</td>\n      <td>NaN</td>\n      <td>NaN</td>\n      <td>NaN</td>\n      <td>NaN</td>\n      <td>NaN</td>\n      <td>NaN</td>\n    </tr>\n    <tr>\n      <th>2</th>\n      <td>18403310</td>\n      <td>171.000000</td>\n      <td>W</td>\n      <td>4476</td>\n      <td>574.0</td>\n      <td>150.0</td>\n      <td>visa</td>\n      <td>226.0</td>\n      <td>debit</td>\n      <td>472.0</td>\n      <td>...</td>\n      <td>NaN</td>\n      <td>NaN</td>\n      <td>NaN</td>\n      <td>NaN</td>\n      <td>NaN</td>\n      <td>NaN</td>\n      <td>NaN</td>\n      <td>NaN</td>\n      <td>NaN</td>\n      <td>NaN</td>\n    </tr>\n    <tr>\n      <th>3</th>\n      <td>18403310</td>\n      <td>285.000000</td>\n      <td>W</td>\n      <td>10989</td>\n      <td>360.0</td>\n      <td>150.0</td>\n      <td>visa</td>\n      <td>166.0</td>\n      <td>debit</td>\n      <td>205.0</td>\n      <td>...</td>\n      <td>NaN</td>\n      <td>NaN</td>\n      <td>NaN</td>\n      <td>NaN</td>\n      <td>NaN</td>\n      <td>NaN</td>\n      <td>NaN</td>\n      <td>NaN</td>\n      <td>NaN</td>\n      <td>NaN</td>\n    </tr>\n    <tr>\n      <th>4</th>\n      <td>18403317</td>\n      <td>67.937500</td>\n      <td>W</td>\n      <td>18018</td>\n      <td>452.0</td>\n      <td>150.0</td>\n      <td>mastercard</td>\n      <td>117.0</td>\n      <td>debit</td>\n      <td>264.0</td>\n      <td>...</td>\n      <td>NaN</td>\n      <td>NaN</td>\n      <td>NaN</td>\n      <td>NaN</td>\n      <td>NaN</td>\n      <td>NaN</td>\n      <td>NaN</td>\n      <td>NaN</td>\n      <td>NaN</td>\n      <td>NaN</td>\n    </tr>\n  </tbody>\n</table>\n<p>5 rows × 269 columns</p>\n</div>"
     },
     "metadata": {},
     "execution_count": 29
    }
   ],
   "source": [
    "%%time\n",
    "\n",
    "dataframe, transaction_id_data = load_test_data()\n",
    "dataframe.head()"
   ]
  },
  {
   "cell_type": "markdown",
   "metadata": {},
   "source": [
    "## extract hour from TransactionDT"
   ]
  },
  {
   "cell_type": "code",
   "execution_count": 30,
   "metadata": {},
   "outputs": [
    {
     "output_type": "stream",
     "name": "stdout",
     "text": "browsers: [nan 'chrome' 'ie' 'safari' 'edge' 'firefox' 'samsung' 'other' 'opera'\n 'palemoon']\nMem. usage decreased to 314.77 Mb (5.6% reduction)\n"
    }
   ],
   "source": [
    "dataframe['hour'] = make_hour_feature(dataframe)\n",
    "dataframe = dataframe.drop('TransactionDT', axis=1)\n",
    "dataframe = preprocess(dataframe)"
   ]
  },
  {
   "cell_type": "markdown",
   "metadata": {},
   "source": [
    "## do inference and get output"
   ]
  },
  {
   "cell_type": "code",
   "execution_count": 31,
   "metadata": {},
   "outputs": [
    {
     "output_type": "stream",
     "name": "stdout",
     "text": "CPU times: user 48min 52s, sys: 4.25 s, total: 48min 56s\nWall time: 4min 37s\n"
    },
    {
     "output_type": "execute_result",
     "data": {
      "text/plain": "   TransactionID   isFraud\n0        3663549  0.000239\n1        3663550  0.000065\n2        3663551  0.000161\n3        3663552  0.000187\n4        3663553  0.000068",
      "text/html": "<div>\n<style scoped>\n    .dataframe tbody tr th:only-of-type {\n        vertical-align: middle;\n    }\n\n    .dataframe tbody tr th {\n        vertical-align: top;\n    }\n\n    .dataframe thead th {\n        text-align: right;\n    }\n</style>\n<table border=\"1\" class=\"dataframe\">\n  <thead>\n    <tr style=\"text-align: right;\">\n      <th></th>\n      <th>TransactionID</th>\n      <th>isFraud</th>\n    </tr>\n  </thead>\n  <tbody>\n    <tr>\n      <th>0</th>\n      <td>3663549</td>\n      <td>0.000239</td>\n    </tr>\n    <tr>\n      <th>1</th>\n      <td>3663550</td>\n      <td>0.000065</td>\n    </tr>\n    <tr>\n      <th>2</th>\n      <td>3663551</td>\n      <td>0.000161</td>\n    </tr>\n    <tr>\n      <th>3</th>\n      <td>3663552</td>\n      <td>0.000187</td>\n    </tr>\n    <tr>\n      <th>4</th>\n      <td>3663553</td>\n      <td>0.000068</td>\n    </tr>\n  </tbody>\n</table>\n</div>"
     },
     "metadata": {},
     "execution_count": 31
    }
   ],
   "source": [
    "%%time\n",
    "\n",
    "classifier = joblib.load(model_dir_path + 'hour.joblib')  # load model\n",
    "\n",
    "output_dataframe = inference(classifier, dataframe, transaction_id_data)\n",
    "output_dataframe.to_csv(output_dir_path + 'hour.csv', index=False)\n",
    "\n",
    "output_dataframe.head()"
   ]
  },
  {
   "cell_type": "markdown",
   "metadata": {},
   "source": [
    "## AUC (extract hour from TransactionDT)\n",
    "\n",
    "- validation: 0.9729030850127821\n",
    "- Kaggle public score: 0.937576\n",
    "- Kaggle private score: 0.911587"
   ]
  },
  {
   "cell_type": "markdown",
   "metadata": {},
   "source": [
    "## load training data"
   ]
  },
  {
   "cell_type": "code",
   "execution_count": 32,
   "metadata": {},
   "outputs": [
    {
     "output_type": "stream",
     "name": "stdout",
     "text": "Mem. usage decreased to 542.35 Mb (69.4% reduction)\nMem. usage decreased to 25.86 Mb (42.7% reduction)\nnumber of rows in training data: 590540\nCPU times: user 50.4 s, sys: 36.2 s, total: 1min 26s\nWall time: 1min 26s\n"
    },
    {
     "output_type": "execute_result",
     "data": {
      "text/plain": "   isFraud  TransactionDT  TransactionAmt ProductCD  card1  card2  card3  \\\n0        0          86400            68.5         W  13926    NaN  150.0   \n1        0          86401            29.0         W   2755  404.0  150.0   \n2        0          86469            59.0         W   4663  490.0  150.0   \n3        0          86499            50.0         W  18132  567.0  150.0   \n4        0          86506            50.0         H   4497  514.0  150.0   \n\n        card4  card5   card6  ...        id_30                id_31  id_32  \\\n0    discover  142.0  credit  ...          NaN                  NaN    NaN   \n1  mastercard  102.0  credit  ...          NaN                  NaN    NaN   \n2        visa  166.0   debit  ...          NaN                  NaN    NaN   \n3  mastercard  117.0   debit  ...          NaN                  NaN    NaN   \n4  mastercard  102.0  credit  ...  Android 7.0  samsung browser 6.2   32.0   \n\n       id_33           id_34  id_36  id_37  id_38  DeviceType  \\\n0        NaN             NaN    NaN    NaN    NaN         NaN   \n1        NaN             NaN    NaN    NaN    NaN         NaN   \n2        NaN             NaN    NaN    NaN    NaN         NaN   \n3        NaN             NaN    NaN    NaN    NaN         NaN   \n4  2220x1080  match_status:2      F      T      T      mobile   \n\n                      DeviceInfo  \n0                            NaN  \n1                            NaN  \n2                            NaN  \n3                            NaN  \n4  SAMSUNG SM-G892A Build/NRD90M  \n\n[5 rows x 270 columns]",
      "text/html": "<div>\n<style scoped>\n    .dataframe tbody tr th:only-of-type {\n        vertical-align: middle;\n    }\n\n    .dataframe tbody tr th {\n        vertical-align: top;\n    }\n\n    .dataframe thead th {\n        text-align: right;\n    }\n</style>\n<table border=\"1\" class=\"dataframe\">\n  <thead>\n    <tr style=\"text-align: right;\">\n      <th></th>\n      <th>isFraud</th>\n      <th>TransactionDT</th>\n      <th>TransactionAmt</th>\n      <th>ProductCD</th>\n      <th>card1</th>\n      <th>card2</th>\n      <th>card3</th>\n      <th>card4</th>\n      <th>card5</th>\n      <th>card6</th>\n      <th>...</th>\n      <th>id_30</th>\n      <th>id_31</th>\n      <th>id_32</th>\n      <th>id_33</th>\n      <th>id_34</th>\n      <th>id_36</th>\n      <th>id_37</th>\n      <th>id_38</th>\n      <th>DeviceType</th>\n      <th>DeviceInfo</th>\n    </tr>\n  </thead>\n  <tbody>\n    <tr>\n      <th>0</th>\n      <td>0</td>\n      <td>86400</td>\n      <td>68.5</td>\n      <td>W</td>\n      <td>13926</td>\n      <td>NaN</td>\n      <td>150.0</td>\n      <td>discover</td>\n      <td>142.0</td>\n      <td>credit</td>\n      <td>...</td>\n      <td>NaN</td>\n      <td>NaN</td>\n      <td>NaN</td>\n      <td>NaN</td>\n      <td>NaN</td>\n      <td>NaN</td>\n      <td>NaN</td>\n      <td>NaN</td>\n      <td>NaN</td>\n      <td>NaN</td>\n    </tr>\n    <tr>\n      <th>1</th>\n      <td>0</td>\n      <td>86401</td>\n      <td>29.0</td>\n      <td>W</td>\n      <td>2755</td>\n      <td>404.0</td>\n      <td>150.0</td>\n      <td>mastercard</td>\n      <td>102.0</td>\n      <td>credit</td>\n      <td>...</td>\n      <td>NaN</td>\n      <td>NaN</td>\n      <td>NaN</td>\n      <td>NaN</td>\n      <td>NaN</td>\n      <td>NaN</td>\n      <td>NaN</td>\n      <td>NaN</td>\n      <td>NaN</td>\n      <td>NaN</td>\n    </tr>\n    <tr>\n      <th>2</th>\n      <td>0</td>\n      <td>86469</td>\n      <td>59.0</td>\n      <td>W</td>\n      <td>4663</td>\n      <td>490.0</td>\n      <td>150.0</td>\n      <td>visa</td>\n      <td>166.0</td>\n      <td>debit</td>\n      <td>...</td>\n      <td>NaN</td>\n      <td>NaN</td>\n      <td>NaN</td>\n      <td>NaN</td>\n      <td>NaN</td>\n      <td>NaN</td>\n      <td>NaN</td>\n      <td>NaN</td>\n      <td>NaN</td>\n      <td>NaN</td>\n    </tr>\n    <tr>\n      <th>3</th>\n      <td>0</td>\n      <td>86499</td>\n      <td>50.0</td>\n      <td>W</td>\n      <td>18132</td>\n      <td>567.0</td>\n      <td>150.0</td>\n      <td>mastercard</td>\n      <td>117.0</td>\n      <td>debit</td>\n      <td>...</td>\n      <td>NaN</td>\n      <td>NaN</td>\n      <td>NaN</td>\n      <td>NaN</td>\n      <td>NaN</td>\n      <td>NaN</td>\n      <td>NaN</td>\n      <td>NaN</td>\n      <td>NaN</td>\n      <td>NaN</td>\n    </tr>\n    <tr>\n      <th>4</th>\n      <td>0</td>\n      <td>86506</td>\n      <td>50.0</td>\n      <td>H</td>\n      <td>4497</td>\n      <td>514.0</td>\n      <td>150.0</td>\n      <td>mastercard</td>\n      <td>102.0</td>\n      <td>credit</td>\n      <td>...</td>\n      <td>Android 7.0</td>\n      <td>samsung browser 6.2</td>\n      <td>32.0</td>\n      <td>2220x1080</td>\n      <td>match_status:2</td>\n      <td>F</td>\n      <td>T</td>\n      <td>T</td>\n      <td>mobile</td>\n      <td>SAMSUNG SM-G892A Build/NRD90M</td>\n    </tr>\n  </tbody>\n</table>\n<p>5 rows × 270 columns</p>\n</div>"
     },
     "metadata": {},
     "execution_count": 32
    }
   ],
   "source": [
    "%%time\n",
    "\n",
    "dataframe = load_training_data()\n",
    "dataframe.head()"
   ]
  },
  {
   "cell_type": "markdown",
   "metadata": {},
   "source": [
    "## extract day and hour from TransactionDT"
   ]
  },
  {
   "cell_type": "code",
   "execution_count": 33,
   "metadata": {},
   "outputs": [
    {
     "output_type": "stream",
     "name": "stdout",
     "text": "browsers: [nan 'samsung' 'safari' 'chrome' 'edge' 'firefox' 'ie' 'other' 'opera'\n 'aol' 'silk' 'waterfox' 'puffin' 'cyberfox' 'palemoon' 'maxthon' 'iron'\n 'seamonkey' 'comodo' 'chromium' 'icedragon']\nMem. usage decreased to 357.35 Mb (6.6% reduction)\n"
    }
   ],
   "source": [
    "dataframe['day'] = make_day_feature(dataframe, offset=0.58)\n",
    "dataframe['hour'] = make_hour_feature(dataframe)\n",
    "dataframe = dataframe.drop('TransactionDT', axis=1)\n",
    "\n",
    "dataframe = preprocess(dataframe)"
   ]
  },
  {
   "cell_type": "markdown",
   "metadata": {},
   "source": [
    "## train model"
   ]
  },
  {
   "cell_type": "code",
   "execution_count": 34,
   "metadata": {},
   "outputs": [
    {
     "output_type": "stream",
     "name": "stdout",
     "text": "Training until validation scores don't improve for 500 rounds\n[1000]\ttraining's auc: 0.991803\tvalid_1's auc: 0.969626\n[2000]\ttraining's auc: 0.998717\tvalid_1's auc: 0.976773\n[3000]\ttraining's auc: 0.99975\tvalid_1's auc: 0.978331\n[4000]\ttraining's auc: 0.999966\tvalid_1's auc: 0.978793\n[5000]\ttraining's auc: 0.999995\tvalid_1's auc: 0.978891\nEarly stopping, best iteration is:\n[4688]\ttraining's auc: 0.999991\tvalid_1's auc: 0.978911\nAUC: 0.9789106212510266\n"
    },
    {
     "output_type": "execute_result",
     "data": {
      "text/plain": "['models/fe/day_hour.joblib']"
     },
     "metadata": {},
     "execution_count": 34
    }
   ],
   "source": [
    "classifier = train_lgbm(dataframe)\n",
    "joblib.dump(classifier, model_dir_path + 'day_hour.joblib')  # save model"
   ]
  },
  {
   "cell_type": "markdown",
   "metadata": {},
   "source": [
    "## load test data"
   ]
  },
  {
   "cell_type": "code",
   "execution_count": 35,
   "metadata": {},
   "outputs": [
    {
     "output_type": "stream",
     "name": "stdout",
     "text": "Mem. usage decreased to 472.59 Mb (68.9% reduction)\nMem. usage decreased to 25.44 Mb (42.7% reduction)\nnumber of rows in test data: 506691\nCPU times: user 43.5 s, sys: 29.6 s, total: 1min 13s\nWall time: 1min 13s\n"
    },
    {
     "output_type": "execute_result",
     "data": {
      "text/plain": "   TransactionDT  TransactionAmt ProductCD  card1  card2  card3       card4  \\\n0       18403224       31.953125         W  10409  111.0  150.0        visa   \n1       18403263       49.000000         W   4272  111.0  150.0        visa   \n2       18403310      171.000000         W   4476  574.0  150.0        visa   \n3       18403310      285.000000         W  10989  360.0  150.0        visa   \n4       18403317       67.937500         W  18018  452.0  150.0  mastercard   \n\n   card5  card6  addr1  ...  id_30  id_31 id_32 id_33  id_34  id_36  id_37  \\\n0  226.0  debit  170.0  ...    NaN    NaN   NaN   NaN    NaN    NaN    NaN   \n1  226.0  debit  299.0  ...    NaN    NaN   NaN   NaN    NaN    NaN    NaN   \n2  226.0  debit  472.0  ...    NaN    NaN   NaN   NaN    NaN    NaN    NaN   \n3  166.0  debit  205.0  ...    NaN    NaN   NaN   NaN    NaN    NaN    NaN   \n4  117.0  debit  264.0  ...    NaN    NaN   NaN   NaN    NaN    NaN    NaN   \n\n   id_38  DeviceType  DeviceInfo  \n0    NaN         NaN         NaN  \n1    NaN         NaN         NaN  \n2    NaN         NaN         NaN  \n3    NaN         NaN         NaN  \n4    NaN         NaN         NaN  \n\n[5 rows x 269 columns]",
      "text/html": "<div>\n<style scoped>\n    .dataframe tbody tr th:only-of-type {\n        vertical-align: middle;\n    }\n\n    .dataframe tbody tr th {\n        vertical-align: top;\n    }\n\n    .dataframe thead th {\n        text-align: right;\n    }\n</style>\n<table border=\"1\" class=\"dataframe\">\n  <thead>\n    <tr style=\"text-align: right;\">\n      <th></th>\n      <th>TransactionDT</th>\n      <th>TransactionAmt</th>\n      <th>ProductCD</th>\n      <th>card1</th>\n      <th>card2</th>\n      <th>card3</th>\n      <th>card4</th>\n      <th>card5</th>\n      <th>card6</th>\n      <th>addr1</th>\n      <th>...</th>\n      <th>id_30</th>\n      <th>id_31</th>\n      <th>id_32</th>\n      <th>id_33</th>\n      <th>id_34</th>\n      <th>id_36</th>\n      <th>id_37</th>\n      <th>id_38</th>\n      <th>DeviceType</th>\n      <th>DeviceInfo</th>\n    </tr>\n  </thead>\n  <tbody>\n    <tr>\n      <th>0</th>\n      <td>18403224</td>\n      <td>31.953125</td>\n      <td>W</td>\n      <td>10409</td>\n      <td>111.0</td>\n      <td>150.0</td>\n      <td>visa</td>\n      <td>226.0</td>\n      <td>debit</td>\n      <td>170.0</td>\n      <td>...</td>\n      <td>NaN</td>\n      <td>NaN</td>\n      <td>NaN</td>\n      <td>NaN</td>\n      <td>NaN</td>\n      <td>NaN</td>\n      <td>NaN</td>\n      <td>NaN</td>\n      <td>NaN</td>\n      <td>NaN</td>\n    </tr>\n    <tr>\n      <th>1</th>\n      <td>18403263</td>\n      <td>49.000000</td>\n      <td>W</td>\n      <td>4272</td>\n      <td>111.0</td>\n      <td>150.0</td>\n      <td>visa</td>\n      <td>226.0</td>\n      <td>debit</td>\n      <td>299.0</td>\n      <td>...</td>\n      <td>NaN</td>\n      <td>NaN</td>\n      <td>NaN</td>\n      <td>NaN</td>\n      <td>NaN</td>\n      <td>NaN</td>\n      <td>NaN</td>\n      <td>NaN</td>\n      <td>NaN</td>\n      <td>NaN</td>\n    </tr>\n    <tr>\n      <th>2</th>\n      <td>18403310</td>\n      <td>171.000000</td>\n      <td>W</td>\n      <td>4476</td>\n      <td>574.0</td>\n      <td>150.0</td>\n      <td>visa</td>\n      <td>226.0</td>\n      <td>debit</td>\n      <td>472.0</td>\n      <td>...</td>\n      <td>NaN</td>\n      <td>NaN</td>\n      <td>NaN</td>\n      <td>NaN</td>\n      <td>NaN</td>\n      <td>NaN</td>\n      <td>NaN</td>\n      <td>NaN</td>\n      <td>NaN</td>\n      <td>NaN</td>\n    </tr>\n    <tr>\n      <th>3</th>\n      <td>18403310</td>\n      <td>285.000000</td>\n      <td>W</td>\n      <td>10989</td>\n      <td>360.0</td>\n      <td>150.0</td>\n      <td>visa</td>\n      <td>166.0</td>\n      <td>debit</td>\n      <td>205.0</td>\n      <td>...</td>\n      <td>NaN</td>\n      <td>NaN</td>\n      <td>NaN</td>\n      <td>NaN</td>\n      <td>NaN</td>\n      <td>NaN</td>\n      <td>NaN</td>\n      <td>NaN</td>\n      <td>NaN</td>\n      <td>NaN</td>\n    </tr>\n    <tr>\n      <th>4</th>\n      <td>18403317</td>\n      <td>67.937500</td>\n      <td>W</td>\n      <td>18018</td>\n      <td>452.0</td>\n      <td>150.0</td>\n      <td>mastercard</td>\n      <td>117.0</td>\n      <td>debit</td>\n      <td>264.0</td>\n      <td>...</td>\n      <td>NaN</td>\n      <td>NaN</td>\n      <td>NaN</td>\n      <td>NaN</td>\n      <td>NaN</td>\n      <td>NaN</td>\n      <td>NaN</td>\n      <td>NaN</td>\n      <td>NaN</td>\n      <td>NaN</td>\n    </tr>\n  </tbody>\n</table>\n<p>5 rows × 269 columns</p>\n</div>"
     },
     "metadata": {},
     "execution_count": 35
    }
   ],
   "source": [
    "%%time\n",
    "\n",
    "dataframe, transaction_id_data = load_test_data()\n",
    "dataframe.head()"
   ]
  },
  {
   "cell_type": "markdown",
   "metadata": {},
   "source": [
    "## extract day and hour from TransactionDT"
   ]
  },
  {
   "cell_type": "code",
   "execution_count": 36,
   "metadata": {},
   "outputs": [
    {
     "output_type": "stream",
     "name": "stdout",
     "text": "browsers: [nan 'chrome' 'ie' 'safari' 'edge' 'firefox' 'samsung' 'other' 'opera'\n 'palemoon']\nMem. usage decreased to 315.73 Mb (6.4% reduction)\n"
    }
   ],
   "source": [
    "dataframe['day'] = make_day_feature(dataframe, offset=0.58)\n",
    "dataframe['hour'] = make_hour_feature(dataframe)\n",
    "dataframe = dataframe.drop('TransactionDT', axis=1)\n",
    "\n",
    "dataframe = preprocess(dataframe)"
   ]
  },
  {
   "cell_type": "markdown",
   "metadata": {},
   "source": [
    "## do inference and get output"
   ]
  },
  {
   "cell_type": "code",
   "execution_count": 37,
   "metadata": {},
   "outputs": [
    {
     "output_type": "stream",
     "name": "stdout",
     "text": "CPU times: user 34min 26s, sys: 3.67 s, total: 34min 30s\nWall time: 3min 16s\n"
    },
    {
     "output_type": "execute_result",
     "data": {
      "text/plain": "   TransactionID   isFraud\n0        3663549  0.000437\n1        3663550  0.000093\n2        3663551  0.000327\n3        3663552  0.000354\n4        3663553  0.000297",
      "text/html": "<div>\n<style scoped>\n    .dataframe tbody tr th:only-of-type {\n        vertical-align: middle;\n    }\n\n    .dataframe tbody tr th {\n        vertical-align: top;\n    }\n\n    .dataframe thead th {\n        text-align: right;\n    }\n</style>\n<table border=\"1\" class=\"dataframe\">\n  <thead>\n    <tr style=\"text-align: right;\">\n      <th></th>\n      <th>TransactionID</th>\n      <th>isFraud</th>\n    </tr>\n  </thead>\n  <tbody>\n    <tr>\n      <th>0</th>\n      <td>3663549</td>\n      <td>0.000437</td>\n    </tr>\n    <tr>\n      <th>1</th>\n      <td>3663550</td>\n      <td>0.000093</td>\n    </tr>\n    <tr>\n      <th>2</th>\n      <td>3663551</td>\n      <td>0.000327</td>\n    </tr>\n    <tr>\n      <th>3</th>\n      <td>3663552</td>\n      <td>0.000354</td>\n    </tr>\n    <tr>\n      <th>4</th>\n      <td>3663553</td>\n      <td>0.000297</td>\n    </tr>\n  </tbody>\n</table>\n</div>"
     },
     "metadata": {},
     "execution_count": 37
    }
   ],
   "source": [
    "%%time\n",
    "\n",
    "classifier = joblib.load(model_dir_path + 'day_hour.joblib')  # load model\n",
    "\n",
    "output_dataframe = inference(classifier, dataframe, transaction_id_data)\n",
    "output_dataframe.to_csv(output_dir_path + 'day_hour.csv', index=False)\n",
    "\n",
    "output_dataframe.head()"
   ]
  },
  {
   "cell_type": "markdown",
   "metadata": {},
   "source": [
    "## AUC (extract day and hour from TransactionDT)\n",
    "\n",
    "- validation: 0.9789106212510266\n",
    "- Kaggle public score: 0.939177\n",
    "- Kaggle private score: 0.912190"
   ]
  },
  {
   "cell_type": "markdown",
   "metadata": {},
   "source": [
    "## comparison\n",
    "\n",
    "AUC|TransactionDT|day|hour|day and hour\n",
    "-|-|-|-|-\n",
    "validation|0.978945247092173|0.9779124794073768|0.9729030850127821|0.9789106212510266\n",
    "Kaggle public score|0.940459|0.938442|0.937576|0.939177\n",
    "Kaggle private score|0.914248|0.910745|0.911587|0.912190\n",
    "\n",
    "conclusion: using TransactionDT as it is, instead of extracting day and/or hour, is still the best for performance"
   ]
  }
 ],
 "metadata": {
  "language_info": {
   "name": "python",
   "codemirror_mode": {
    "name": "ipython",
    "version": 3
   },
   "version": "3.7.6-final"
  },
  "orig_nbformat": 2,
  "file_extension": ".py",
  "mimetype": "text/x-python",
  "name": "python",
  "npconvert_exporter": "python",
  "pygments_lexer": "ipython3",
  "version": 3,
  "kernelspec": {
   "name": "python37664bit0656ffb61a14454b8758eedef206058e",
   "display_name": "Python 3.7.6 64-bit"
  }
 },
 "nbformat": 4,
 "nbformat_minor": 2
}